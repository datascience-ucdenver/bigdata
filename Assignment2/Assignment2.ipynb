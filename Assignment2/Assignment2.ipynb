{
 "cells": [
  {
   "cell_type": "markdown",
   "metadata": {},
   "source": [
    "<h1 style='text-aling:center;color:Navy'>  Big Data Systems - Spring 2023 </h1>\n",
    "<h1 style='text-aling:center;color:Navy'>  Assignment 2  </h1>"
   ]
  },
  {
   "cell_type": "markdown",
   "metadata": {},
   "source": [
    "This assignment is focused on Big Data Storage Systems. In particular we will work with the following: \n",
    "- MongoDB \n",
    "- Redis\n",
    "\n",
    "To complete the assignment, you should complete this notebook by filling in the cells provided.\n"
   ]
  },
  {
   "attachments": {},
   "cell_type": "markdown",
   "metadata": {},
   "source": [
    "Submission Deadline: This assignment is due Friday, Mar 10 at 8:59 P.M.\n",
    "\n",
    "A few notes before you start:\n",
    "- Directly sharing answers is not okay, but discussing problems with other students is encouraged.\n",
    "- You should start early so that you have time to get help if you're stuck.\n",
    "\n",
    "- Complete all the exercises below and turn in a write-up in the form of a Jupyuter notebook, that is, an .ipynb file. The write-up should include your code and answers to exercise questions. You will submit your assignment online as an attachment (*.ipynb), through Canvas under Assignment 2.\n"
   ]
  },
  {
   "cell_type": "markdown",
   "metadata": {},
   "source": [
    "# <span style=\"font-size:35px;color:#3665af\">Section 1: MongoDB </span>\n",
    "\n",
    "<hr>\n",
    "In this section, we will practice how to use MongoDB. <br>\n",
    "\n",
    "## Pre-reqs:\n",
    "\n",
    "You need to have your environment set up on Google Cloud working. Please refer to the provided Google Cloud instructions for this setup. <br>\n",
    "\n"
   ]
  },
  {
   "cell_type": "markdown",
   "metadata": {},
   "source": [
    "<div style=\"font-size:30px;color:#3665af;background-color:#E9E9F5;padding:10px;\">1. Environment Setup </div>\n",
    "\n",
    "<br>\n",
    "\n",
    "<div style=\"font-size:20px;color:#F1F8FC;background-color:#0095EA;padding:10px;\">1.1. Uploading your files to the cloud </div>\n",
    "\n",
    "We need to upload the file cities.txt to the bucket. In the following procedure we will refer to the bucket name as **bigdatasystem\\_1234\\_bucket** so you need to replace that with your bucket name.\n",
    "\n",
    "<div style=\"font-size:20px;color:#F1F8FC;background-color:#0095EA;padding:10px;\">1.2. Creating and uploading a Bucket </div>\n",
    "\n",
    "1. Go to the cloud console.\n",
    "2. Using the menu select Cloud Storage and then select your bucket. If you don't have one, you need to create one.\n",
    "3. Drag your file to the bucket. \n",
    "\n",
    "\n",
    "![Console](img/Storage.png)\n"
   ]
  },
  {
   "cell_type": "markdown",
   "metadata": {},
   "source": [
    "<div style=\"font-size:20px;color:#F1F8FC;background-color:#0095EA;padding:10px;\">1.3. Configuring a MongoDB Instance</div>\n",
    "\n",
    "Google cloud provides two ways to deploy a MongoDB instance. The first way is by creating a MongoDB Cluster. For this lab that option is too costly. The second one is by deploying a container. We will implement this latter approach. \n",
    "\n",
    "To do that, first open the Google Cloud console. Go to the web console and select your project, then click on the console icon on the top right corner.\n",
    "\n",
    "![Console launcher](img/console.png)\n",
    "\n",
    "__ After you open your console, you should have something like this: __\n",
    "<hr>\n",
    "\n",
    "![Console](img/console2.png)\n",
    "\n",
    "<br>\n",
    "\n",
    "<div style=\"font-size:20px;color:#F1F8FC;background-color:#0095EA;padding:10px;\">1.4. Pulling Docker image</div>\n",
    "\n",
    "To pull the docker image just type and run:\n",
    "<pre style=\"background-color: #ebece4;padding: 10px;border-left: solid 4px orange;\">\n",
    "gcloud docker -- pull launcher.gcr.io/google/mongodb3:latest\n",
    "</pre>\n",
    "\n",
    "\n",
    "<div style=\"font-size:20px;color:#F1F8FC;background-color:#0095EA;padding:10px;\">1.5. Creating the necessary directories</div>\n",
    "\n",
    "Just run:\n",
    "<pre style=\"background-color: #ebece4;padding: 10px;border-left: solid 4px orange;\">\n",
    "mkdir -p ~/mongo/data/shard1\n",
    "mkdir -p ~/mongo/files\n",
    "</pre>\n",
    "\n",
    "We need to pull the _cities.txt_ file from the bucket to the console.\n",
    "<pre style=\"background-color: #ebece4;padding: 10px;border-left: solid 4px orange;\">\n",
    "gsutil cp gs://bigdatasystem_1234_bucket/cities.txt ~/mongo/files/cities.txt\n",
    "</pre>\n",
    "    \n",
    "<div class=\"alert alert-block alert-info\">\n",
    "<b>NOTE:</b> Remember to use your bucket name\n",
    "</div>\n"
   ]
  },
  {
   "cell_type": "markdown",
   "metadata": {},
   "source": [
    "<div style=\"font-size:20px;color:#F1F8FC;background-color:#0095EA;padding:10px;\">1.6. Running docker</div>\n",
    "\n",
    "To create a MongoDB instance just run this command. \n",
    "\n",
    "<pre style=\"background-color: #ebece4;padding: 10px;border-left: solid 4px orange;\">\n",
    "docker run \\\n",
    "  --name server1 \\\n",
    "  -p 27017:27017 \\\n",
    "  -v ~/mongo/data/shard1:/data/db \\\n",
    "  -v ~/mongo/files:/files \\\n",
    "  -d \\\n",
    "  launcher.gcr.io/google/mongodb3\n",
    "</pre>\n",
    "\n",
    "- --name sets the name of the docker container \n",
    "- -p sets the port for MongoDB, in this case 27017\n",
    "- -v maps a host directory to the container; e.g. maps the ~/mongo/data/shard1 to the /data/db in the container\n",
    "- -d indicates the process to run in the container \n",
    "\n",
    "\n",
    "**Once you run this command, you should get an hexadecimal id of the image**.<br><br>\n",
    "\n",
    "<div style=\"font-size:20px;color:#F1F8FC;background-color:#0095EA;padding:10px;\">1.7. Docker Reference:</div>\n",
    "\n",
    "[Reference](https://docs.docker.com/) and [Cheat Sheet](https://github.com/wsargent/docker-cheat-sheet)\n",
    "\n",
    "#### To check which are the dockers containers currently executing \n",
    "Run:\n",
    "<pre style=\"background-color: #ebece4;padding: 10px;border-left: solid 4px orange;\">\n",
    "docker ps\n",
    "</pre>\n",
    "\n",
    "#### To stop a docker container\n",
    "Run:\n",
    "<pre style=\"background-color: #ebece4;padding: 10px;border-left: solid 4px orange;\">\n",
    "docker stop \\<dockerName\\>\n",
    "</pre>\n",
    "Example:\n",
    "<pre style=\"background-color: #ebece4;padding: 10px;border-left: solid 4px orange;\">\n",
    "docker stop server1\n",
    "</pre>\n",
    "\n",
    "#### To remove (destroy) a docker container\n",
    "Run:\n",
    "<pre style=\"background-color: #ebece4;padding: 10px;border-left: solid 4px orange;\">\n",
    "docker rm \\<dockerName\\>\n",
    "</pre>\n",
    "Example:\n",
    "<pre style=\"background-color: #ebece4;padding: 10px;border-left: solid 4px orange;\">\n",
    "docker rm server1\n",
    "</pre>"
   ]
  },
  {
   "cell_type": "markdown",
   "metadata": {},
   "source": [
    "<div style=\"font-size:30px;color:#3665af;background-color:#E9E9F5;padding:10px;\">2. Connecting to MongoDB </div>\n",
    "\n",
    "\n",
    "To execute the client run:\n",
    "<pre style=\"background-color: #ebece4;padding: 10px;border-left: solid 4px orange;\">\n",
    "docker exec -it server1 mongo admin\n",
    "</pre>\n",
    "\n",
    "You should get the following output:\n",
    "\n",
    "![mongo client](img/mongoClient.png)\n",
    "\n",
    "To end the client just run:\n",
    "<pre style=\"background-color: #ebece4;padding: 10px;border-left: solid 4px navy;\">\n",
    "quit();\n",
    "</pre>\n"
   ]
  },
  {
   "cell_type": "markdown",
   "metadata": {},
   "source": [
    "- Create the database **mydb** and the collection **cities**:\n",
    "\n",
    "<pre style=\"background-color: #ebece4;padding: 10px;border-left: solid 4px navy;\">\n",
    "#Create the DB if not exists \n",
    "use mydb  \n",
    "#Creates the collection.\n",
    "db.createCollection(\"cities\")\n",
    "</pre>\n",
    "\n",
    "- Verify the existence of the database (mydb) and the database collection (cities):\n",
    "\n",
    "<pre style=\"background-color: #ebece4;padding: 10px;border-left: solid 4px navy;\">\n",
    "show dbs\n",
    "show collections\n",
    "</pre>\n"
   ]
  },
  {
   "cell_type": "markdown",
   "metadata": {},
   "source": [
    "<span style=\"color:RED\">Paste the output of the previous four commands here. </span>"
   ]
  },
  {
   "cell_type": "raw",
   "metadata": {},
   "source": []
  },
  {
   "cell_type": "markdown",
   "metadata": {},
   "source": [
    "<div style=\"font-size:20px;color:#F1F8FC;background-color:#0095EA;padding:10px;\">2.1. Load some data</div>\n",
    "\n",
    "\n",
    "Quit the client so we can use the mongoimport to load data.\n",
    "\n",
    "<pre style=\"background-color: #ebece4;padding: 10px;border-left: solid 4px navy;\">\n",
    "quit();\n",
    "</pre>\n",
    "\n",
    "- First let's check that we have the file in the correct directory. \n",
    "\n",
    "<pre style=\"background-color: #ebece4;padding: 10px;border-left: solid 4px orange;\">\n",
    "ls -al ~/mongo/files\n",
    "</pre>\n",
    "Should list the cities.txt"
   ]
  },
  {
   "cell_type": "markdown",
   "metadata": {},
   "source": [
    "- We will use the **mongoimport** tool to load documents from a text file. The syntax is:\n",
    "<pre style=\"background-color:#dddddd;padding:5px;\">\n",
    "mongoimport  --db <database> --collection <collection> --file <filepath/filename>\n",
    "</pre>\n",
    "\n",
    "- So, to execute it through docker just run:\n",
    "<pre style=\"background-color: #ebece4;padding: 10px;border-left: solid 4px orange;\">\n",
    "docker exec -it server1 mongoimport  --db mydb --collection cities --file /files/cities.txt\n",
    "</pre>"
   ]
  },
  {
   "cell_type": "markdown",
   "metadata": {},
   "source": [
    "<span style=\"color:RED\">Paste the output here. </span>"
   ]
  },
  {
   "cell_type": "raw",
   "metadata": {},
   "source": []
  },
  {
   "cell_type": "markdown",
   "metadata": {},
   "source": [
    "\n",
    "### Question 1:\n",
    "In English describe the content of the database collection. Also, test the following command:\n",
    "\n",
    "<pre style=\"background-color: #ebece4;padding: 10px;border-left: solid 4px navy;\">\n",
    "db.cities.find().pretty()\n",
    "</pre> \n",
    "\n",
    "<span style=\"color:RED\">Include a sample of the result and your description of what that command does below.</span>"
   ]
  },
  {
   "cell_type": "raw",
   "metadata": {},
   "source": []
  },
  {
   "cell_type": "markdown",
   "metadata": {},
   "source": [
    "<hr style=\"border-top: 1px solid red; margin-top: 20px; margin-bottom: 1px\"></hr>\n",
    "\n",
    "##### Using what you learned in class and [MongoDB Reference]( https://www.mongodb.com/docs/v4.4/reference/mongo-shell/ ) answer the following queries using the cities collection.\n",
    "\n",
    "<hr style=\"border-top: 1px solid red; margin-top: 20px; margin-bottom: 1px\"></hr>"
   ]
  },
  {
   "cell_type": "markdown",
   "metadata": {},
   "source": [
    "\n",
    "### Question 2:\n",
    "List all the cities of the State of Colorado.\n",
    "\n",
    "<span style=\"color:RED\">Place your code and a sample of the result here.</span>"
   ]
  },
  {
   "cell_type": "code",
   "execution_count": null,
   "metadata": {},
   "outputs": [],
   "source": []
  },
  {
   "cell_type": "markdown",
   "metadata": {},
   "source": [
    "\n",
    "### Question 3:\n",
    "List the first 10 cities of the State of Colorado.\n",
    "\n",
    "<span style=\"color:RED\">Place your code and a sample of the result here.</span>"
   ]
  },
  {
   "cell_type": "code",
   "execution_count": null,
   "metadata": {},
   "outputs": [],
   "source": []
  },
  {
   "cell_type": "markdown",
   "metadata": {},
   "source": [
    "### Question 4:\n",
    "List the 10 cities of the State of Colorado with largest populations.\n",
    "\n",
    "<span style=\"color:RED\">Place your code and a sample of the result here.</span>"
   ]
  },
  {
   "cell_type": "code",
   "execution_count": null,
   "metadata": {},
   "outputs": [],
   "source": []
  },
  {
   "cell_type": "markdown",
   "metadata": {},
   "source": [
    "### Question 5:\n",
    "List the 10 cities with largest populations.\n",
    "\n",
    "<span style=\"color:RED\">Place your code and a sample of the result here.</span>"
   ]
  },
  {
   "cell_type": "code",
   "execution_count": null,
   "metadata": {},
   "outputs": [],
   "source": []
  },
  {
   "cell_type": "markdown",
   "metadata": {},
   "source": [
    "<hr style=\"border: 1px double blue;\" >\n",
    "\n",
    "## Map-Reduce with MongoDB\n",
    "\n",
    "We can run map-reduce jobs on Mongodb. Let's count the number of cities per state:\n",
    "\n",
    "<pre style=\"background-color: #ebece4;padding: 10px;border-left: solid 4px navy;\">\n",
    "db.cities.mapReduce(\n",
    "                    function()           { emit(this.state,1); }, \n",
    "                    function(key,values) {return key,Array.sum(values);}, \n",
    "                    { out: \"citiesPerState\" } \n",
    "                   )\n",
    "</pre>\n",
    "\n",
    "This code will generate a new collection instead of displaying the result. \n",
    "Use the commands discussed before to list the collections and to get the information from the new collection.\n"
   ]
  },
  {
   "cell_type": "markdown",
   "metadata": {},
   "source": [
    "### Question 6:\n",
    "<span style=\"color:RED\">Place your code output (map-reduce) here.</span>\n"
   ]
  },
  {
   "cell_type": "raw",
   "metadata": {},
   "source": []
  },
  {
   "cell_type": "markdown",
   "metadata": {},
   "source": [
    "### Question 7:\n",
    "<span style=\"color:RED\">Place the list of collections here.</span>"
   ]
  },
  {
   "cell_type": "raw",
   "metadata": {},
   "source": []
  },
  {
   "cell_type": "markdown",
   "metadata": {},
   "source": [
    "### Question 8:\n",
    "<span style=\"color:RED\">Place the content of the new collection here.</span>"
   ]
  },
  {
   "cell_type": "raw",
   "metadata": {},
   "source": []
  },
  {
   "cell_type": "markdown",
   "metadata": {},
   "source": [
    "### Map-Reduce - Question 9:\n",
    "Generate a collection called **populationPerState** that contains the population of each state.\n",
    "\n",
    "<span style=\"color:RED\">Place your code, code output and a sample of the result here.</span>"
   ]
  },
  {
   "cell_type": "raw",
   "metadata": {},
   "source": []
  },
  {
   "cell_type": "markdown",
   "metadata": {},
   "source": [
    "### Map-Reduce - Question 10:\n",
    "Generate a collection called **totalPopulation** that contains the entire population of the USA."
   ]
  },
  {
   "cell_type": "markdown",
   "metadata": {},
   "source": [
    "<span style=\"color:RED\">Place your code, code output and a sample of the result here.</span>\n",
    "> Hint: you can use your previous computed collection."
   ]
  },
  {
   "cell_type": "raw",
   "metadata": {},
   "source": []
  },
  {
   "cell_type": "markdown",
   "metadata": {},
   "source": [
    "<span style=\"text-align:center;font-size:30px;color:#2F632A\">\n",
    "&nbsp;&nbsp;&nbsp;&nbsp;&nbsp;&nbsp;STOP AND DELETE YOUR DOCKER WHEN YOU ARE FINISHED \n",
    "</span>\n",
    "<br>"
   ]
  },
  {
   "cell_type": "markdown",
   "metadata": {},
   "source": [
    "<hr style=\"border-top: 5px solid purple; margin-top: 1px; margin-bottom: 1px\"></hr>"
   ]
  },
  {
   "cell_type": "markdown",
   "metadata": {},
   "source": [
    "# <span style=\"font-size:35px;color:#3665af\">Section 2: REDIS </span>\n",
    "<hr>\n",
    "\n",
    "The objective of this part of the assignment is to introduce the use of REDIS (an in-memory data store) to collect data from various sources for subsequent data processing. \n",
    "\n",
    "For this assignment, we will be using REDIS on Google Cloud and Twitter Python libraries.\n",
    "\n",
    "<b><u>Notebook Layout (Table of contents):</u></b>\n",
    "1. Environment Set-up\n",
    "   - Deployment a REDIS Cluster\n",
    "   - Network Configuration\n",
    "   - Enabling Remote Access\n",
    "   - Installing Python libraries\n",
    "2. Getting Familiar with REDIS\n",
    "3. Retrieving Information From Twitter\n",
    "   - Creating Twitter Credentials\n",
    "   - Accessing Twitter\n",
    "   - Saving Tweets to REDIS\n",
    "   - Retrieving Tweets from REDIS\n",
    "4. Load Database From CSV\n"
   ]
  },
  {
   "cell_type": "markdown",
   "metadata": {},
   "source": [
    "<div style=\"font-size:30px;color:#3665af;background-color:#E9E9F5;padding:10px;\">1. Environment Setup </div>\n",
    "\n",
    "For this assignment we will be using the REDIS deployment on Google Cloud. Please follow the instructions to set up the cluster. You can opt to install REDIS on your own system. We don't recommend this approach though.<br><br>\n",
    "\n",
    "<div style=\"font-size:20px;color:#F1F8FC;background-color:#0095EA;padding:10px;\">1.1. Deployment of a REDIS Cluster </div>\n",
    "\n",
    "Use the search box, and search REDIS (Google Click to Deploy).\n",
    "\n",
    "<img src=\"img/redis_launcher.png\" style=\"width:1000px;\">\n",
    "\n",
    "We will deploy a REDIS cluster using three small-cpu nodes:\n",
    "- **Name**: redis-1\n",
    "- **Zone**: us-central1-f\n",
    "- **Instance Count**: 3\n",
    "- **Machine Type**: e2-small (2Gb memory)\n",
    "- **Boot Disk size**: 50GB\n",
    "\n",
    "All other parameters are set to default values. The cost of this deployment is the same as that of any other Virtual Machine (VM) created on the cloud. Your deployment configuration should be similar to this:<br>\n",
    "\n",
    "<img src=\"img/redis_deployment.png\" style=\"width:1000px;\">\n",
    "\n"
   ]
  },
  {
   "cell_type": "markdown",
   "metadata": {},
   "source": [
    "<div style=\"font-size:20px;color:#F1F8FC;background-color:#0095EA;padding:10px;\">1.2. Network Configuration </div>\n",
    "\n",
    "Once you have your cluster deployed, we need to setup a firewall rule to allow us access from our Jupyter-Notebook. To do that, go to the menu, and select **VPC Network**. Then select Firewall Rules and create a new rule as depicted below:\n",
    "\n",
    "<img src=\"img/vpc_network.png\" style=\"width:1000px;\">\n",
    "\n"
   ]
  },
  {
   "cell_type": "markdown",
   "metadata": {
    "collapsed": false
   },
   "source": [
    "<img src=\"img/fire_rule2.png\" style=\"width:1000px;\">"
   ]
  },
  {
   "cell_type": "markdown",
   "metadata": {
    "collapsed": false
   },
   "source": [
    "<img src=\"img/fire_rule2.png\" style=\"width:1000px;\">"
   ]
  },
  {
   "attachments": {},
   "cell_type": "markdown",
   "metadata": {},
   "source": [
    "<div style=\"font-size:20px;color:#F1F8FC;background-color:#0095EA;padding:10px;\">\n",
    "    1.3. Enabling Remote Access to REDIS\n",
    "</div>\n",
    "\n",
    "After creating the firewall rule, we also need to configure REDIS to allow access from the external network. Follow this procedure to accomplish that:\n",
    "\n",
    "- Select the Compute Engine in the navigation menu\n",
    "- Open the SSH terminal to the main server, by selecting SSH on the _redis-1-db-vm-0_ VM (the Compute Engine menu on the Cloud).\n",
    "\n",
    "<img src=\"img/redis_vm.png\" style=\"width:550px;\">\n",
    "\n",
    "- Disable the REDIS password:\n",
    "\n",
    "<pre style=\"background-color: #ebece4;padding: 10px;border-left: solid 4px orange;\">\n",
    "sudo nano /etc/redis/redis.conf\n",
    "</pre>\n",
    "\n",
    "Use your arrow keys to scroll down to the line beginning with \"requirepass\", then comment that line out using \"#\". \n",
    "\n",
    "Press ctrl+x, then hit y, then Enter. \n",
    "\n",
    "- Restart REDIS\n",
    "\n",
    "<pre style=\"background-color: #ebece4;padding: 10px;border-left: solid 4px orange;\">\n",
    "sudo service redis-server restart\n",
    "</pre>\n",
    " \n",
    "- Launch the REDIS Client on the console \n",
    "\n",
    "<pre style=\"background-color: #ebece4;padding: 10px;border-left: solid 4px orange;\">\n",
    "redis-cli\n",
    "</pre>\n",
    "\n",
    "- Within the client change the config to disable protected mode\n",
    "\n",
    "<pre style=\"background-color: #ebece4;padding: 10px;border-left: solid 4px navy;\">\n",
    "CONFIG SET protected-mode no\n",
    "</pre>\n",
    "You should get an **OK** message. Then type:\n",
    "<pre style=\"background-color: #ebece4;padding: 10px;border-left: solid 4px navy;\">\n",
    "quit\n",
    "</pre>\n",
    "\n",
    "Once this is completed, we should be able to access REDIS through the public ip we get on the VM list\n",
    "\n",
    "<img src=\"img/redis_vm_ip.png\" style=\"width:550px;\">\n"
   ]
  },
  {
   "cell_type": "markdown",
   "metadata": {},
   "source": [
    "<div style=\"font-size:20px;color:#F1F8FC;background-color:#0095EA;padding:10px;\">\n",
    "    1.4. Installing Python Libraries\n",
    "</div>\n",
    "\n",
    "You need to install two libraries for this assignment: \n",
    "- REDIS library, and\n",
    "- Twitter library.\n",
    "\n",
    "- Within your notebook environment (click the jupyterhub logo on top left), open a new terminal (New -> Terminal), and run\n",
    "\n",
    "<pre style=\"background-color: #ebece4;padding: 10px;border-left: solid 4px orange;\">\n",
    "pip install tweepy\n",
    "pip install redis\n",
    "</pre>\n",
    "\n",
    "\n"
   ]
  },
  {
   "cell_type": "markdown",
   "metadata": {},
   "source": [
    "<div style=\"font-size:30px;color:#3665af;background-color:#E9E9F5;padding:10px;\">\n",
    "    2. Getting Familiar with <b>REDIS</b> \n",
    "</div>\n",
    "\n",
    "You can read about the REDIS commands [here](https://redis.io/commands)."
   ]
  },
  {
   "cell_type": "code",
   "execution_count": null,
   "metadata": {},
   "outputs": [],
   "source": [
    "##Import the library\n",
    "import redis"
   ]
  },
  {
   "cell_type": "code",
   "execution_count": null,
   "metadata": {},
   "outputs": [],
   "source": [
    "## Connect to the server\n",
    "REDIS_SERVER = 'Your REDIS IP address'\n",
    "REDIS_PORT   = 6379\n",
    "myRedis = redis.StrictRedis(host=REDIS_SERVER, port=REDIS_PORT, db=0)"
   ]
  },
  {
   "cell_type": "code",
   "execution_count": null,
   "metadata": {},
   "outputs": [],
   "source": [
    "## Dropping Everything we got on REDIS\n",
    "display(myRedis.flushdb())\n",
    "display(myRedis.flushall())"
   ]
  },
  {
   "cell_type": "code",
   "execution_count": null,
   "metadata": {},
   "outputs": [],
   "source": [
    "print(\"I'm storing a value on the key 'myKey'\")\n",
    "display(myRedis.set('myKey', 'This is the key value'))\n",
    "print(\"I'm reading the value of 'myKey' from REDIS\")\n",
    "display(myRedis.get('myKey'))"
   ]
  },
  {
   "cell_type": "code",
   "execution_count": null,
   "metadata": {},
   "outputs": [],
   "source": [
    "print(\"I'm storing a List on REDIS\")\n",
    "\n",
    "print(\"Adding elements to the end of the list\")\n",
    "display(myRedis.rpush('weekdays','Tuesday'))\n",
    "display(myRedis.rpush('weekdays','Wednesday'))\n",
    "display(myRedis.rpush('weekdays','Thursday'))\n",
    "display(myRedis.rpush('weekdays','Friday'))\n",
    "print(\"Current List Length:\", myRedis.llen('weekdays'))\n",
    "display(\"Current Weekdays Content:\",myRedis.lrange('weekdays',0,-1))\n",
    "\n",
    "\n",
    "print(\"Adding elements to the beginning of the list\")\n",
    "display(myRedis.lpush('weekdays','Monday'))\n",
    "\n",
    "print(\"Current List Length:\", myRedis.llen('weekdays'))\n",
    "display(\"Current Weekdays Content:\",myRedis.lrange('weekdays',0,-1))\n"
   ]
  },
  {
   "cell_type": "code",
   "execution_count": null,
   "metadata": {},
   "outputs": [],
   "source": [
    "print(\"I'm storing a HASH on REDIS\")\n",
    "print(\"- Remember that hashes can be used to store documents!\")\n",
    "\n",
    "#create a dictionary\n",
    "user = {\"Name\"    :\"myName\", \n",
    "        \"Company\" :\"myCompany\", \n",
    "        \"Address\" :\"myAddress\", \n",
    "        \"Location\":\"MyLocation\"}\n",
    "\n",
    "print (\"Store to REDIS\")\n",
    "display(myRedis.hmset(\"userDictionary\", user))\n",
    "\n",
    "print (\"Retrieve from REDIS\")\n",
    "display(myRedis.hgetall(\"userDictionary\"))\n"
   ]
  },
  {
   "cell_type": "markdown",
   "metadata": {},
   "source": [
    "<div style=\"font-size:30px;color:#3665af;background-color:#E9E9F5;padding:10px;\">\n",
    "    3. Retrieving Information From Twitter</div>\n",
    "<br>\n",
    "<div style=\"font-size:20px;color:#F1F8FC;background-color:#0095EA;padding:10px;\">\n",
    "    3.1. Creating Twitter Credentials\n",
    "</div>\n",
    "\n",
    "In order to be able to access tweets from our application, we need a Tweeter account, consumer keys and access tokens.\n",
    "\n",
    "To generates these, go to https://apps.twitter.com\n",
    "and **Create a New App**. Fill in the form and agree with the terms.\n",
    "\n",
    "Once that's done, select your app and the tab **Keys and Access Tokens**\n",
    "\n",
    "<img src=\"img/twitter.png\" style=\"width:550px;\">\n"
   ]
  },
  {
   "cell_type": "markdown",
   "metadata": {},
   "source": [
    "<div style=\"font-size:20px;color:#F1F8FC;background-color:#0095EA;padding:10px;\">\n",
    "    3.2. Accessing Twitter\n",
    "</div>\n"
   ]
  },
  {
   "cell_type": "code",
   "execution_count": null,
   "metadata": {},
   "outputs": [],
   "source": [
    "import tweepy\n",
    "from tweepy import OAuthHandler\n",
    " \n",
    "consumer_key    = 'PLACE_YOUR_KEYS'\n",
    "consumer_secret = 'PLACE_YOUR_KEYS'\n",
    "access_token    = 'PLACE_YOUR_KEYS'\n",
    "access_secret   = 'PLACE_YOUR_KEYS'\n",
    " \n",
    "auth = OAuthHandler(consumer_key, consumer_secret)\n",
    "auth.set_access_token(access_token, access_secret)\n",
    " \n",
    "api = tweepy.API(auth)"
   ]
  },
  {
   "cell_type": "code",
   "execution_count": null,
   "metadata": {},
   "outputs": [],
   "source": [
    "for tweet in tweepy.Cursor(api.home_timeline).items(2):\n",
    "    # Process a single tweet\n",
    "\n",
    "    print(tweet._json.keys())\n",
    "    print()\n",
    "    print(tweet._json[\"id\"])\n",
    "    print(tweet._json[\"text\"])\n",
    "    print(tweet._json[\"source\"])\n",
    "    print(tweet._json[\"lang\"])\n",
    "    print(tweet._json[\"retweeted\"])    \n",
    "    print(tweet._json[\"retweet_count\"])\n",
    "    print(tweet._json[\"favorite_count\"])\n",
    "    print()\n",
    "    "
   ]
  },
  {
   "cell_type": "markdown",
   "metadata": {},
   "source": [
    "<div style=\"font-size:20px;color:#F1F8FC;background-color:#0095EA;padding:10px;\">\n",
    "    3.3. Saving Tweets to REDIS\n",
    "</div>\n"
   ]
  },
  {
   "cell_type": "code",
   "execution_count": null,
   "metadata": {},
   "outputs": [],
   "source": [
    "# Lets save tweets\n",
    "\n",
    "howManyTweets = 20\n",
    "\n",
    "for tweet in tweepy.Cursor(api.home_timeline).items(howManyTweets):\n",
    "    # Process a single tweet\n",
    "    \n",
    "    ##Formatting the tweet \n",
    "    redisTweet = {\n",
    "                  \"text\"           :tweet._json[\"text\"].encode('utf-8'), \n",
    "                  \"source\"         :tweet._json[\"source\"].encode('utf-8'), \n",
    "                  \"lang\"           :tweet._json[\"lang\"].encode('utf-8'), \n",
    "                  \"source\"         :tweet._json[\"source\"].encode('utf-8'), \n",
    "                  \"retweet_count\"  :tweet._json[\"retweet_count\"], \n",
    "                  \"favorite_count\" :tweet._json[\"favorite_count\"]\n",
    "                 }\n",
    "\n",
    "    ## Saving the tweet as HASH\n",
    "    myRedis.hmset(tweet._json[\"id\"], redisTweet)\n",
    "    #display(tweet._json[\"id\"])\n",
    "    \n",
    "    ## Adding the Tweet id to the list of tweets\n",
    "    myRedis.rpush(\"tweets\",str(tweet._json[\"id\"]))\n",
    "       \n",
    "print(\"Done!\")"
   ]
  },
  {
   "cell_type": "markdown",
   "metadata": {},
   "source": [
    "<div style=\"font-size:20px;color:#F1F8FC;background-color:#0095EA;padding:10px;\">\n",
    "    3.4. Retrieving Tweets from REDIS\n",
    "</div>\n"
   ]
  },
  {
   "cell_type": "code",
   "execution_count": null,
   "metadata": {},
   "outputs": [],
   "source": [
    "for id in myRedis.lrange(\"tweets\",0,99):\n",
    "    print()\n",
    "    print(\"Displaying Tweet with ID:\",id)\n",
    "    print(\"Text:\",myRedis.hmget(id,\"text\"))\n",
    "    print(\"ALL DATA:\",myRedis.hgetall(id))\n",
    "    print(\"========================================================================\")"
   ]
  },
  {
   "cell_type": "markdown",
   "metadata": {},
   "source": [
    "<div style=\"font-size:30px;color:#3665af;background-color:#E9E9F5;padding:10px;\">\n",
    "    4. Load Database From CSV\n",
    "</div>\n",
    "\n",
    "Unzip \"CITES Wildlife Trade Database.zip\" to get \"comptab_2018-01-29 16_00_comma_separated.csv\"\n",
    "### Question 11:\n",
    "Load this csv file into REDIS and compute the number of animals per Order for each importer. Your output should be similar to this:\n",
    "<br>\n",
    "\n",
    "US . Carnivora . XXX\n",
    "<br>\n",
    "US . Falconiformes . XXX\n",
    "<br>\n",
    "US . Artiodactyla . XXX\n",
    "<br>\n",
    "...\n",
    "<br>\n",
    "AD . Acipenseriformes . XXX\n",
    "<br>\n",
    "AD . Falconiformes . XXX\n",
    "<br>\n",
    "AD . Carnivora . XXX\n",
    "<br>\n",
    "...\n",
    "\n",
    "Measure the running time, and present the average running time for the load and the processing operations.\n",
    "\n",
    "**Please also explain your code**\n",
    "<br>\n",
    "Hint: You can download CITES Wildlife Trade Database.zip, unzip it and open comptab_2018-01-29 16_00_comma_separated.csv to see the data"
   ]
  },
  {
   "cell_type": "markdown",
   "metadata": {},
   "source": [
    "<span style=\"color:RED\">PLACE YOUR ANSWERS/CODE IN CELLS BELOW</span>"
   ]
  },
  {
   "cell_type": "raw",
   "metadata": {},
   "source": []
  },
  {
   "cell_type": "raw",
   "metadata": {},
   "source": []
  },
  {
   "cell_type": "markdown",
   "metadata": {
    "pycharm": {
     "name": "#%% md\n"
    }
   },
   "source": [
    "<div style=\"font-size:20px;background-color:#BE6D00;color:#F6EFE5;padding:10px;text-align:center;\">\n",
    "STOP YOUR CLUSTER WHEN YOU ARE NOT WORKING<br><br>\n",
    "ONCE YOU ARE FINISHED, DELETE YOUR CLUSTER\n",
    "</div>\n",
    "<br>"
   ]
  },
  {
   "cell_type": "markdown",
   "metadata": {
    "collapsed": false
   },
   "source": [
    "<h2>Submission</h2>\n",
    "\n",
    "<p style=\"text-align: justify;\">You need to submit a Jupyter Notebook (*.ipynb) file that contains your completed code.\n",
    "\n",
    "\n",
    "<span>The file name should be in <strong>FirstName_LastName</strong> format</span>.</p>\n",
    "<p style=\"text-align: justify;\"><span>DO NOT INCLUDE EXTRA FILES, SUCH AS THE INPUT DATASETS</span>, in your submission;</p>\n",
    "<p style=\"text-align: justify;\">Please download your assignment after submission and make sure it is not corrupted or empty! We will not be responsible for corrupted submissions and will not take a resubmission after the deadline.</p>"
   ]
  },
  {
   "cell_type": "markdown",
   "metadata": {
    "collapsed": false
   },
   "source": [
    "Need Help?\n",
    "If you need help with this assignment, please get in touch with TAs on MS Teams or via their emails, or go to their office hours.\n",
    "You are highly encouraged to ask your question on the designated channel for Assignment o on Microsoft Teams (not necessarily monitored by the instructor/TAs). Feel free to help other students with general questions. However, DO NOT share your solution."
   ]
  },
  {
   "cell_type": "code",
   "execution_count": null,
   "metadata": {
    "collapsed": false,
    "pycharm": {
     "name": "#%%\n"
    }
   },
   "outputs": [],
   "source": []
  }
 ],
 "metadata": {
  "kernelspec": {
   "display_name": "Python 3",
   "language": "python",
   "name": "python3"
  },
  "language_info": {
   "codemirror_mode": {
    "name": "ipython",
    "version": 3
   },
   "file_extension": ".py",
   "mimetype": "text/x-python",
   "name": "python",
   "nbconvert_exporter": "python",
   "pygments_lexer": "ipython3",
   "version": "3.7.6"
  }
 },
 "nbformat": 4,
 "nbformat_minor": 4
}
