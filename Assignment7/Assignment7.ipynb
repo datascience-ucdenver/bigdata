{
 "cells": [
  {
   "cell_type": "markdown",
   "metadata": {
    "collapsed": true
   },
   "source": [
    "<h1 style='text-aling:center;color:Navy'>  Big Data Systems - Fall 2021  </h1>\n",
    "<h1 style='text-aling:center;color:Navy'>  Assignment 7 </h1>"
   ]
  },
  {
   "cell_type": "markdown",
   "metadata": {},
   "source": [
    "This assignment is focused on Time Series Analysis and Big Graph Processing with GraphLab.\n",
    "\n",
    "To complete the assignment, you should complete this notebook by filling in the cells provided."
   ]
  },
  {
   "attachments": {},
   "cell_type": "markdown",
   "metadata": {},
   "source": [
    "<b>Submission Deadline: This assignment is due Friday, Apr 21 at 8:59 P.M</b>\n",
    "\n",
    "A few notes before you start:\n",
    "- Directly sharing answers is not okay, but discussing problems with other students is encouraged.\n",
    "- You should start early so that you have time to get help if you're stuck.\n",
    "\n",
    "- Before continuing the assignment, select \"Save and Checkpoint\" in the File menu and then execute the submit cell below. The result will contain a link that you can use to check that your assignment has been submitted successfully. If you submit more than once before the deadline, we will only grade your final submission. If you mistakenly submit the wrong one, you can head to okpy.org and flag the correct version. There will be another submit cell at the end of the assignment when you finish!"
   ]
  },
  {
   "cell_type": "markdown",
   "metadata": {},
   "source": [
    "<hr style=\"border-top: 5px solid orange; margin-top: 1px; margin-bottom: 1px\"></hr>\n",
    "<br>\n",
    "Before you begin completing the assignment, execute the following cell to load the provided tests."
   ]
  },
  {
   "cell_type": "code",
   "execution_count": null,
   "metadata": {},
   "outputs": [],
   "source": [
    "# Don't change this cell; just run it. \n",
    "# When you log-in please hit return (not shift + return) after typing in your email\n",
    "from client.api.notebook import Notebook\n",
    "ok = Notebook('Assignment7.ok')"
   ]
  },
  {
   "cell_type": "code",
   "execution_count": null,
   "metadata": {},
   "outputs": [],
   "source": [
    "_ = ok.submit()"
   ]
  },
  {
   "cell_type": "markdown",
   "metadata": {},
   "source": [
    "<hr style=\"border-top: 5px solid orange; margin-top: 1px; margin-bottom: 1px\"></hr>"
   ]
  },
  {
   "cell_type": "markdown",
   "metadata": {},
   "source": [
    "<hr style=\"border-top: 5px solid purple; margin-top: 1px; margin-bottom: 1px\"></hr>"
   ]
  },
  {
   "cell_type": "markdown",
   "metadata": {},
   "source": [
    "# <span style=\"color:#3665af\">SECTION 1: Time Series Analysis </span>\n",
    "<hr>"
   ]
  },
  {
   "cell_type": "markdown",
   "metadata": {},
   "source": [
    "###### Goal\n",
    "This assignment covers the topic of time series analysis using TimescaleDB. Make sure you have\n",
    "your system fully configured before starting this assignment. Refer to the Assignment document to do so."
   ]
  },
  {
   "cell_type": "markdown",
   "metadata": {},
   "source": [
    "<div style=\"font-size:20px;color:#F1F8FC;background-color:#0095EA;padding:10px;\">Connect to PostgreSQL</div>"
   ]
  },
  {
   "cell_type": "markdown",
   "metadata": {},
   "source": [
    "This section includes a reminder of how to connect to PostgreSQL.<br>\n",
    "Open PostgreSQL and open the nyc_data database:\n",
    "\n",
    "```\n",
    "psql -U postgres -h localhost -d nyc_data\n",
    "```\n",
    "\n",
    "Then use the following command to see the list of tables:\n",
    "\n",
    "```\n",
    "\\dt\n",
    "```"
   ]
  },
  {
   "cell_type": "markdown",
   "metadata": {},
   "source": [
    "<img src=\"img/img1.png\" style=\"width:800px;\">"
   ]
  },
  {
   "cell_type": "markdown",
   "metadata": {},
   "source": [
    "Now use the following command to see the columns of rides table (you can press q for going back to the terminal):\n",
    "```\n",
    "\\d rides\n",
    "```"
   ]
  },
  {
   "cell_type": "markdown",
   "metadata": {},
   "source": [
    "<img src=\"img/img2.png\" style=\"width:600px;\">"
   ]
  },
  {
   "cell_type": "markdown",
   "metadata": {},
   "source": [
    "<div style=\"font-size:20px;color:#F1F8FC;background-color:#0095EA;padding:10px;\">Run and Study Query Examples</div>"
   ]
  },
  {
   "cell_type": "markdown",
   "metadata": {},
   "source": [
    "## Example 1\n",
    "\n",
    "Find the average fare of rides with 2+ passengers per day until '2016-01-08':"
   ]
  },
  {
   "cell_type": "markdown",
   "metadata": {},
   "source": [
    "```\n",
    "SELECT date_trunc('day', pickup_datetime) as day, avg(fare_amount)\n",
    "FROM rides\n",
    "WHERE passenger_count > 1 AND pickup_datetime < '2016-01-08'\n",
    "GROUP BY day\n",
    "ORDER BY day;\n",
    "```"
   ]
  },
  {
   "cell_type": "markdown",
   "metadata": {},
   "source": [
    "<img src=\"img/img3.png\" style=\"width:600px;\">"
   ]
  },
  {
   "cell_type": "markdown",
   "metadata": {},
   "source": [
    "## Example 2\n",
    "Total number of rides by day for first 5 days"
   ]
  },
  {
   "cell_type": "markdown",
   "metadata": {},
   "source": [
    "```\n",
    "SELECT date_trunc('day', pickup_datetime) as day, COUNT(*) FROM rides\n",
    "GROUP BY day\n",
    "ORDER BY day\n",
    "LIMIT 5;\n",
    "```"
   ]
  },
  {
   "cell_type": "markdown",
   "metadata": {},
   "source": [
    "<img src=\"img/img4.png\" style=\"width:600px;\">"
   ]
  },
  {
   "cell_type": "markdown",
   "metadata": {},
   "source": [
    "Note: The following query is not supported by PostgreSQL itself and time_bucket is provided by timescaledb."
   ]
  },
  {
   "cell_type": "markdown",
   "metadata": {},
   "source": [
    "## Example 3\n",
    "Find the number of rides by 5-minute intervals on 2016-01-01 using the TimescaleDB \"<i>time_bucket</i>\" function"
   ]
  },
  {
   "cell_type": "markdown",
   "metadata": {},
   "source": [
    "```\n",
    "SELECT time_bucket('5 minute', pickup_datetime) as five_min, count(*)\n",
    "FROM rides\n",
    "WHERE pickup_datetime < '2016-01-01 02:00'\n",
    "GROUP BY five_min\n",
    "ORDER BY five_min;\n",
    "```"
   ]
  },
  {
   "cell_type": "markdown",
   "metadata": {},
   "source": [
    "<img src=\"img/img5.png\" style=\"width:600px;\">"
   ]
  },
  {
   "cell_type": "markdown",
   "metadata": {},
   "source": [
    "## Example 4\n",
    "Analyze rides by rate type:"
   ]
  },
  {
   "cell_type": "markdown",
   "metadata": {},
   "source": [
    "```\n",
    "SELECT rate_code, COUNT(vendor_id) as num_trips FROM rides\n",
    "WHERE pickup_datetime < '2016-01-08'\n",
    "GROUP BY rate_code\n",
    "ORDER BY rate_code;\n",
    "```"
   ]
  },
  {
   "cell_type": "markdown",
   "metadata": {},
   "source": [
    "<img src=\"img/img6.png\" style=\"width:600px;\">"
   ]
  },
  {
   "cell_type": "markdown",
   "metadata": {},
   "source": [
    "<i>rate_code</i> doesn't really tell us what these groups represent, and it doesn't look like there is any other\n",
    "info on rates in the rides table. However, there is a separate rates table and TimescaleDB supports JOINs\n",
    "between tables:"
   ]
  },
  {
   "cell_type": "markdown",
   "metadata": {},
   "source": [
    "```\n",
    "SELECT rates.description, COUNT(vendor_id) as num_trips\n",
    "FROM rides JOIN rates on rides.rate_code = rates.rate_code\n",
    "WHERE pickup_datetime < '2016-01-08'\n",
    "GROUP BY rates.description ORDER BY rates.description;\n",
    "```"
   ]
  },
  {
   "cell_type": "markdown",
   "metadata": {},
   "source": [
    "<img src=\"img/img7.png\" style=\"width:600px;\">"
   ]
  },
  {
   "cell_type": "markdown",
   "metadata": {},
   "source": [
    "Now we have something that is human readable. In particular, two of these rate types correspond to local airports (JFK, Newark). Let's take a closer look at those two:"
   ]
  },
  {
   "cell_type": "markdown",
   "metadata": {},
   "source": [
    "```\n",
    "SELECT rates.description, COUNT(vendor_id) as num_trips,\n",
    "        AVG(dropoff_datetime - pickup_datetime) as avg_trip_duration,\n",
    "        AVG(total_amount) as avg_total,\n",
    "        AVG(tip_amount) as avg_tip, MIN(trip_distance) as min_distance,\n",
    "        AVG(trip_distance) as avg_distance, MAX(trip_distance) as\n",
    "        max_distance,\n",
    "        AVG(passenger_count) as avg_passengers\n",
    "FROM rides JOIN rates on rides.rate_code = rates.rate_code\n",
    "WHERE rides.rate_code in (2,3) AND pickup_datetime < '2016-02-01'\n",
    "GROUP BY rates.description\n",
    "ORDER BY rates.description;\n",
    "```"
   ]
  },
  {
   "cell_type": "markdown",
   "metadata": {},
   "source": [
    "<div style=\"font-size:30px;color:#3665af;background-color:#e1dfb1;padding:10px;\">Exercise - Write Queries</div>"
   ]
  },
  {
   "cell_type": "markdown",
   "metadata": {},
   "source": [
    "<div style=\"font-size:20px;color:#F1F8FC;background-color:#557aba;padding:10px;\">Query 1</div>\n"
   ]
  },
  {
   "cell_type": "markdown",
   "metadata": {},
   "source": [
    "Write a query to find the total number of rides, total distance, and total fare for each day and rate_code. Order the result based on day and then rate_code. Do you see any unexpected number(s) in the result suggesting inaccuracy in the dataset?\n",
    "\n",
    "Include your query and its result (copy and paste) into the text file. Do this for Q2 and Q3 as well. Output format should be as follows:"
   ]
  },
  {
   "cell_type": "markdown",
   "metadata": {},
   "source": [
    "<img src=\"img/img8.png\" style=\"width:600px;\">"
   ]
  },
  {
   "cell_type": "markdown",
   "metadata": {},
   "source": [
    "<i>Note that this result is computed over a different dataset. Your result would be different but should follow\n",
    "the same format</i>"
   ]
  },
  {
   "cell_type": "raw",
   "metadata": {},
   "source": [
    "** Write your query here **"
   ]
  },
  {
   "cell_type": "markdown",
   "metadata": {},
   "source": [
    "<div style=\"font-size:20px;color:#F1F8FC;background-color:#557aba;padding:10px;\">Query 2</div>"
   ]
  },
  {
   "cell_type": "markdown",
   "metadata": {},
   "source": [
    "Find the change in the number of rides for each rate_code/hour between 2016-01-01 and 2016-01-02.\n",
    "\n",
    "For example, if there are 10 rides for rate_code <font color='blue'>99</font> between <font color='orange'>2pm</font> and 3pm on 2016-01-01 and there are 5 rides for the same time and rate_code on 2016-01-02, the result must contain <font color='orange'>2</font>, <font color='blue'>99</font>, -5.\n"
   ]
  },
  {
   "cell_type": "markdown",
   "metadata": {},
   "source": [
    "You might find the following functions useful:\n",
    "- extract(field from timestamp) extracts hour from date\n",
    "    - extract(hour from timestamp '2001-02-16 20:38:40') returns 20\n",
    "- date(datetime) extracts date from datetime\n",
    "    - date('2001-02-16 20:38:40') = '2001-02-16'"
   ]
  },
  {
   "cell_type": "raw",
   "metadata": {},
   "source": [
    "** Write your query here **"
   ]
  },
  {
   "cell_type": "markdown",
   "metadata": {},
   "source": [
    "<div style=\"font-size:20px;color:#F1F8FC;background-color:#557aba;padding:10px;\">Query 3</div>"
   ]
  },
  {
   "cell_type": "markdown",
   "metadata": {},
   "source": [
    "Write a query to find the most expensive <i>rate_code (i.e., the highest avg(fare_amount))</i> for each hour of the day on 2016-01-01. The result should contain the date and hour (e.g., 2016-01-01 01:00:00), rate_code, and the average fare for that rate_code. Please note that <b>only</b> the most expensive rate code for each hour must be included in the result. For example, if rate_code 1 is the most expensive between 1pm and 2pm, other rate_codes must not appear in the result for 1-2pm."
   ]
  },
  {
   "cell_type": "raw",
   "metadata": {},
   "source": [
    "** Write your query here **"
   ]
  },
  {
   "cell_type": "markdown",
   "metadata": {},
   "source": [
    "<hr style=\"border-top: 5px solid purple; margin-top: 1px; margin-bottom: 1px\"></hr>"
   ]
  },
  {
   "cell_type": "markdown",
   "metadata": {},
   "source": [
    "<br>\n",
    "\n",
    "# <span style=\"color:#3665af\">SECTION 2: Big Graph Processing with GraphLab </span>\n",
    "<hr>\n",
    "\n",
    "###### Goal\n",
    "In this assignment, we will learn how to work with a graph-based distributed computation framework to read graph data and calculate graph properties including triangle counts connected components and PageRank.\n",
    "\n"
   ]
  },
  {
   "cell_type": "code",
   "execution_count": null,
   "metadata": {},
   "outputs": [],
   "source": [
    "#Please run this command to install turicreate\n",
    "!pip install turicreate"
   ]
  },
  {
   "cell_type": "code",
   "execution_count": null,
   "metadata": {},
   "outputs": [],
   "source": [
    "import turicreate"
   ]
  },
  {
   "cell_type": "markdown",
   "metadata": {},
   "source": [
    "To facilitate graph-oriented data analysis, GraphLab offers an SGraph object, a scalable graph data structure backed by SFrames (https://turi.com/products/create/docs/generated/graphlab.SGraph.html).\n",
    "You will need to briefly read through https://apple.github.io/turicreate/docs/api/ to apply different functions for Section2\n",
    "\n"
   ]
  },
  {
   "cell_type": "markdown",
   "metadata": {},
   "source": [
    "First we create a graph. We can start with empty graph, then add vertices and edges in the form of lists of GraphLab."
   ]
  },
  {
   "cell_type": "code",
   "execution_count": null,
   "metadata": {},
   "outputs": [],
   "source": [
    "from turicreate import SGraph, Vertex, Edge\n",
    "g = SGraph()\n",
    "verts = [Vertex(0, attr={'breed': 'labrador'}),\n",
    "         Vertex(1, attr={'breed': 'Siberian Husky'}),\n",
    "         Vertex(2, attr={'breed': 'vizsla'})]\n",
    "g = g.add_vertices(verts)\n",
    "g = g.add_edges(Edge(1, 2))\n",
    "print(g)"
   ]
  },
  {
   "cell_type": "code",
   "execution_count": null,
   "metadata": {},
   "outputs": [],
   "source": [
    "#Inspecting SGraphs\n",
    "print(g.summary())"
   ]
  },
  {
   "cell_type": "markdown",
   "metadata": {},
   "source": [
    "Another way to create a graph is from an edge list stored in an SFrame\n",
    "https://apple.github.io/turicreate/docs/api/generated/turicreate.SFrame.html?highlight=sframe"
   ]
  },
  {
   "cell_type": "code",
   "execution_count": null,
   "metadata": {},
   "outputs": [],
   "source": [
    "from turicreate import SFrame\n",
    "edge_data = SFrame.read_csv(\n",
    "    'star-wars-network-edges.csv')\n",
    "\n",
    "g = SGraph()\n",
    "g = g.add_edges(edge_data, src_field='source', dst_field='target')\n",
    "print(g)"
   ]
  },
  {
   "cell_type": "markdown",
   "metadata": {},
   "source": [
    "Here we show how to save the SGraph in binary format to a new folder called \"star-wars-network-edges\" and re-load it with a different name:"
   ]
  },
  {
   "cell_type": "code",
   "execution_count": null,
   "metadata": {},
   "outputs": [],
   "source": [
    "import turicreate as gl\n",
    "g.save('star-wars-network-edges')\n",
    "new_graph = gl.load_sgraph('star-wars-network-edges')"
   ]
  },
  {
   "cell_type": "markdown",
   "metadata": {},
   "source": [
    "***\n",
    "<div style=\"width:100%;\">\n",
    "    <div style=\"width:15%;float:left;font-size:20px;background-color:#557aba;color:#eff3f9;padding:6px;font-wight:bold;text-align:center;\">\n",
    "    Question 1\n",
    "    </div>\n",
    "    <div style=\"width:85%;float:right;font-size:16px;background-color:#dce4f2;font-wight:normal;color:black;padding:6px;\">\n",
    "    How many vertices and edges are in the graph? \n",
    "    </div>\n",
    "</div>"
   ]
  },
  {
   "cell_type": "raw",
   "metadata": {},
   "source": [
    "## Place your answer Here"
   ]
  },
  {
   "cell_type": "markdown",
   "metadata": {},
   "source": [
    "<div style=\"width:100%;\">\n",
    "    <div style=\"width:15%;float:left;font-size:20px;background-color:#557aba;color:#eff3f9;padding:6px;font-wight:bold;text-align:center;\">\n",
    "    Question 2\n",
    "    </div>\n",
    "    <div style=\"width:85%;float:right;font-size:16px;background-color:#dce4f2;font-wight:normal;color:black;padding:6px;\">\n",
    "    Which vertex has the highest degree? (highest number of edges).\n",
    "    </div>\n",
    "</div>"
   ]
  },
  {
   "cell_type": "raw",
   "metadata": {},
   "source": [
    "## Place your answer Here"
   ]
  },
  {
   "cell_type": "markdown",
   "metadata": {},
   "source": [
    "***\n",
    "For big graphs, we can print summary of statistics:"
   ]
  },
  {
   "cell_type": "code",
   "execution_count": null,
   "metadata": {},
   "outputs": [],
   "source": [
    "## Place your answer Here"
   ]
  },
  {
   "cell_type": "markdown",
   "metadata": {},
   "source": [
    "# Load graph data : Enron email network (edge indicated that email was exchanged, undirected edges)"
   ]
  },
  {
   "cell_type": "code",
   "execution_count": null,
   "metadata": {},
   "outputs": [],
   "source": [
    "g = gl.load_sgraph('http://snap.stanford.edu/data/email-Enron.txt.gz', 'snap')"
   ]
  },
  {
   "cell_type": "markdown",
   "metadata": {},
   "source": [
    "***\n",
    "<div style=\"width:100%;\">\n",
    "    <div style=\"width:15%;float:left;font-size:20px;background-color:#557aba;color:#eff3f9;padding:6px;font-wight:bold;text-align:center;\">\n",
    "    Question 3\n",
    "    </div>\n",
    "    <div style=\"width:85%;float:right;font-size:16px;background-color:#dce4f2;font-wight:normal;color:black;padding:6px;\">\n",
    "    Report number of vertices and edges.\n",
    "    </div>\n",
    "</div>"
   ]
  },
  {
   "cell_type": "raw",
   "metadata": {},
   "source": [
    "## Place your answer Here"
   ]
  },
  {
   "cell_type": "markdown",
   "metadata": {},
   "source": [
    "<div style=\"width:100%;\">\n",
    "    <div style=\"width:15%;float:left;font-size:20px;background-color:#557aba;color:#eff3f9;padding:6px;font-wight:bold;text-align:center;\">\n",
    "    Question 4\n",
    "    </div>\n",
    "    <div style=\"width:85%;float:right;font-size:16px;background-color:#dce4f2;font-wight:normal;color:black;padding:6px;\">\n",
    "    Calculate PageRank for vertex 47.\n",
    "    </div>\n",
    "</div>"
   ]
  },
  {
   "cell_type": "raw",
   "metadata": {},
   "source": [
    "## Place your answer Here"
   ]
  },
  {
   "cell_type": "markdown",
   "metadata": {},
   "source": [
    "***"
   ]
  },
  {
   "cell_type": "markdown",
   "metadata": {},
   "source": [
    "***\n",
    "<div style=\"width:100%;\">\n",
    "    <div style=\"width:15%;float:left;font-size:20px;background-color:#557aba;color:#eff3f9;padding:6px;font-wight:bold;text-align:center;\">\n",
    "    Question 5\n",
    "    </div>\n",
    "    <div style=\"width:85%;float:right;font-size:16px;background-color:#dce4f2;font-wight:normal;color:black;padding:6px;\">\n",
    "    Calculate the number of triangles in the graph. \n",
    "    </div>\n",
    "</div>  (A triangle is a complete subgraph with only three vertices.) "
   ]
  },
  {
   "cell_type": "raw",
   "metadata": {},
   "source": [
    "## Place your answer Here"
   ]
  },
  {
   "cell_type": "markdown",
   "metadata": {},
   "source": [
    "***"
   ]
  },
  {
   "cell_type": "markdown",
   "metadata": {},
   "source": [
    "***\n",
    "<div style=\"width:100%;\">\n",
    "    <div style=\"width:15%;float:left;font-size:20px;background-color:#557aba;color:#eff3f9;padding:6px;font-wight:bold;text-align:center;\">\n",
    "    Question 6\n",
    "    </div>\n",
    "    <div style=\"width:85%;float:right;font-size:16px;background-color:#dce4f2;font-wight:normal;color:black;padding:6px;\">\n",
    "    Calculate the number of connected components in the graph. A connected component of an undirected graph is a subgraph in which any two vertices are connected to  each other by paths.\n",
    "    </div>\n",
    "</div>  "
   ]
  },
  {
   "cell_type": "markdown",
   "metadata": {},
   "source": [
    "Reference \n",
    "https://apple.github.io/turicreate/docs/api/generated/turicreate.connected_components.ConnectedComponentsModel.html\n"
   ]
  },
  {
   "cell_type": "code",
   "execution_count": null,
   "metadata": {},
   "outputs": [],
   "source": [
    "## Place your answer Here"
   ]
  },
  {
   "cell_type": "markdown",
   "metadata": {},
   "source": [
    "***"
   ]
  },
  {
   "cell_type": "markdown",
   "metadata": {},
   "source": [
    "***\n",
    "<div style=\"width:100%;\">\n",
    "    <div style=\"width:15%;float:left;font-size:20px;background-color:#557aba;color:#eff3f9;padding:6px;font-wight:bold;text-align:center;\">\n",
    "    Question 7\n",
    "    </div>\n",
    "    <div style=\"width:85%;float:right;font-size:16px;background-color:#dce4f2;font-wight:normal;color:black;padding:6px;\">\n",
    "    Write component id for vertex 47.\n",
    "    </div>\n",
    "</div> "
   ]
  },
  {
   "cell_type": "code",
   "execution_count": null,
   "metadata": {},
   "outputs": [],
   "source": [
    "## Place your answer Here"
   ]
  },
  {
   "cell_type": "markdown",
   "metadata": {},
   "source": [
    "<hr style=\"border-top: 5px solid purple; margin-top: 1px; margin-bottom: 1px\"></hr>"
   ]
  },
  {
   "cell_type": "markdown",
   "metadata": {},
   "source": [
    "<hr style=\"border-top: 5px solid orange; margin-top: 1px; margin-bottom: 1px\"></hr>\n",
    "\n",
    "Submission: Once you're finished, select \"Save and Checkpoint\" in the File menu and then execute the submit cell below. The result will contain a link that you can use to check that your assignment has been submitted successfully. If you submit more than once before the deadline, we will only grade your final submission. If you mistakenly submit the wrong one, you can go to the URL that you got at the very beginning of this homework and flag the correct version. To do so, go to the website, click on this assignment, and find the version you would like to have graded. There should be an option to flag that submission for grading. Good luck!"
   ]
  },
  {
   "cell_type": "code",
   "execution_count": null,
   "metadata": {},
   "outputs": [],
   "source": [
    "_ = ok.submit()"
   ]
  },
  {
   "cell_type": "markdown",
   "metadata": {},
   "source": [
    "<hr style=\"border-top: 5px solid orange; margin-top: 1px; margin-bottom: 1px\"></hr>"
   ]
  },
  {
   "cell_type": "code",
   "execution_count": null,
   "metadata": {},
   "outputs": [],
   "source": []
  }
 ],
 "metadata": {
  "kernelspec": {
   "display_name": "Python 3",
   "language": "python",
   "name": "python3"
  },
  "language_info": {
   "codemirror_mode": {
    "name": "ipython",
    "version": 3
   },
   "file_extension": ".py",
   "mimetype": "text/x-python",
   "name": "python",
   "nbconvert_exporter": "python",
   "pygments_lexer": "ipython3",
   "version": "3.7.6"
  }
 },
 "nbformat": 4,
 "nbformat_minor": 1
}
