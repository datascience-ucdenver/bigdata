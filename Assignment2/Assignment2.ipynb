{
 "cells": [
  {
   "cell_type": "markdown",
   "metadata": {},
   "source": [
    "<h1 style='text-aling:center;color:Navy'>  Big Data Systems - Laboratory 2  </h1>"
   ]
  },
  {
   "cell_type": "markdown",
   "metadata": {},
   "source": [
    "# <span style=\"color:#3665af\">MongoDB </span><span style=\"font-size:15px\">(Estimated time: 20 minutes) </span>\n",
    "\n",
    "<hr>\n",
    "In this section, we will practice how to use MongoDB. \n",
    "## Pre-reqs:\n",
    "You need to have your environment set up on Google Cloud working. Please refer to the Google Cloud instructions for this setup. \n",
    "\n",
    "## Uploading your files to the cloud\n",
    "We need to upload the file cities.txt to the bucket. In the following procedure we will refer to the bucket name as **bigdatasystem\\_1234\\_bucket** so you need to replace that with your bucket name.\n",
    "\n",
    "## Creating a Bucket and uploading it. \n",
    "1. Go to the cloud console.\n",
    "2. Using the menu select Storage and then select your bucket. If you don't have one, you need to create one.\n",
    "3. Drag your file to the bucket. \n",
    "\n",
    "\n",
    "![console](img/Storage.PNG)\n"
   ]
  },
  {
   "cell_type": "markdown",
   "metadata": {},
   "source": [
    "## Configuring a MongoDB Instance.\n",
    "\n",
    "Google cloud provides two ways to deploy a MongoDB instance. The first one is by creating a MongoDB Cluster. For this lab that option is too costly. The second one is by deploying a container. We will implement this latter approach. \n",
    "\n",
    "To do that, first open the Google Cloud console. Go to the web console and select your project, then click orn the console icon on the top right corner.\n",
    "\n",
    "![console launcher](img/console.png)\n",
    "\n",
    "__ After you open your console, you should have something like this: __\n",
    "<hr>\n",
    "\n",
    "![console](img/console2.png)\n",
    "\n",
    "\n",
    "### Pulling Docker image\n",
    "\n",
    "To pull the docker image just type and run:\n",
    "<pre style=\"background-color: #ebece4;padding: 10px;border-left: solid 4px orange;\">\n",
    "gcloud docker -- pull launcher.gcr.io/google/mongodb3:latest\n",
    "</pre>\n",
    "\n",
    "### Creating the necessary directories\n",
    "Just run:\n",
    "<pre style=\"background-color: #ebece4;padding: 10px;border-left: solid 4px orange;\">\n",
    "mkdir -p ~/mongo/data/shard1\n",
    "mkdir -p ~/mongo/files\n",
    "</pre>\n",
    "\n",
    "We need to pull the _cities.txt_ file from the bucket to the console.\n",
    "<pre style=\"background-color: #ebece4;padding: 10px;border-left: solid 4px orange;\">\n",
    "gsutil cp gs://bigdatasystem_1234_bucket/cities.txt ~/mongo/files/cities.txt\n",
    "</pre>\n",
    "**Note:** Remember to use your bucket name\n"
   ]
  },
  {
   "cell_type": "markdown",
   "metadata": {},
   "source": [
    "### Running docker\n",
    "To create a MongoDB instance just run this command. \n",
    "\n",
    "<pre style=\"background-color: #ebece4;padding: 10px;border-left: solid 4px orange;\">\n",
    "docker run \\\n",
    "  --name server1 \\\n",
    "  -p 27017:27017 \\\n",
    "  -v ~/mongo/data/shard1:/data/db \\\n",
    "  -v ~/mongo/files:/files \\\n",
    "  -d \\\n",
    "  launcher.gcr.io/google/mongodb3\n",
    "</pre>\n",
    "\n",
    "- --name sets the name of the docker container \n",
    "- -p sets the port for MongoDB, in this case 27017.\n",
    "- -v maps a host directory to the container; e.g. maps the ~/mongo/data/shard1 to the /data/db in the container\n",
    "- -d indicates the process to run in the container. \n",
    "\n",
    "\n",
    "**Once you run this command, you should get an hexadecimal id of the image**.\n",
    "\n",
    "### Docker Reference:\n",
    "[Reference](https://docs.docker.com/) and [Cheat Sheat](https://github.com/wsargent/docker-cheat-sheet)\n",
    "\n",
    "#### To check which are the dockers containers currently executing \n",
    "Run:\n",
    "<pre style=\"background-color: #ebece4;padding: 10px;border-left: solid 4px orange;\">\n",
    "docker ps\n",
    "</pre>\n",
    "\n",
    "#### To stop a docker container\n",
    "Run:\n",
    "<pre style=\"background-color: #ebece4;padding: 10px;border-left: solid 4px orange;\">\n",
    "docker stop \\<dockerName\\>\n",
    "</pre>\n",
    "Example:\n",
    "<pre style=\"background-color: #ebece4;padding: 10px;border-left: solid 4px orange;\">\n",
    "docker stop server1\n",
    "</pre>\n",
    "\n",
    "#### To remove (destroy) a docker container\n",
    "Run:\n",
    "<pre style=\"background-color: #ebece4;padding: 10px;border-left: solid 4px orange;\">\n",
    "docker rm \\<dockerName\\>\n",
    "</pre>\n",
    "Example:\n",
    "<pre style=\"background-color: #ebece4;padding: 10px;border-left: solid 4px orange;\">\n",
    "docker rm server1\n",
    "</pre>"
   ]
  },
  {
   "cell_type": "markdown",
   "metadata": {},
   "source": [
    "## Connect to MongoDB\n",
    "\n",
    "To execute the client run:\n",
    "<pre style=\"background-color: #ebece4;padding: 10px;border-left: solid 4px orange;\">\n",
    "docker exec -it server1 mongo admin\n",
    "</pre>\n",
    "\n",
    "You should get the following output:\n",
    "\n",
    "![mongo client](img/mongoClient.png)\n",
    "\n",
    "To end the client just run:\n",
    "<pre style=\"background-color: #ebece4;padding: 10px;border-left: solid 4px navy;\">\n",
    "quit();\n",
    "</pre>\n"
   ]
  },
  {
   "cell_type": "markdown",
   "metadata": {},
   "source": [
    "- Create the database **mydb** and the collection **cities**:\n",
    "\n",
    "<pre style=\"background-color: #ebece4;padding: 10px;border-left: solid 4px navy;\">\n",
    "#Create the DB if not exists \n",
    "use mydb  \n",
    "#Creates the collection.\n",
    "db.createCollection(\"cities\")\n",
    "</pre>\n",
    "\n",
    "- Verify the existence of the database (mydb) and the database collection (cities):\n",
    "\n",
    "<pre style=\"background-color: #ebece4;padding: 10px;border-left: solid 4px navy;\">\n",
    "show dbs\n",
    "show collections\n",
    "</pre>\n"
   ]
  },
  {
   "cell_type": "markdown",
   "metadata": {},
   "source": [
    "<span style=\"color:RED\">Paste the output of the previous four commands here. </span>"
   ]
  },
  {
   "cell_type": "markdown",
   "metadata": {},
   "source": [
    "### Load some data\n",
    "Quit the client so we can use the mongoimport to load data.\n",
    "\n",
    "<pre style=\"background-color: #ebece4;padding: 10px;border-left: solid 4px navy;\">\n",
    "quit();\n",
    "</pre>\n",
    "\n",
    "- First let's check that we have the file in the correct directory. \n",
    "\n",
    "<pre style=\"background-color: #ebece4;padding: 10px;border-left: solid 4px orange;\">\n",
    "ls -al ~/mongo/files\n",
    "</pre>\n",
    "Should list the cities.txt"
   ]
  },
  {
   "cell_type": "markdown",
   "metadata": {},
   "source": [
    "- We will use the **mongoimport** tool to load documents from a text file. The syntax is:\n",
    "<pre style=\"background-color:#999999;padding:5px;\">\n",
    "mongoimport  --db <database> --collection <collection> --file <filepath/filename>\n",
    "</pre>\n",
    "\n",
    "- So, to execute it through docker just run:\n",
    "<pre style=\"background-color: #ebece4;padding: 10px;border-left: solid 4px orange;\">\n",
    "docker exec -it server1 mongoimport  --db mydb --collection cities --file /files/cities.txt\n",
    "</pre>"
   ]
  },
  {
   "cell_type": "markdown",
   "metadata": {},
   "source": [
    "<span style=\"color:RED\">Paste the output here. </span>"
   ]
  },
  {
   "cell_type": "markdown",
   "metadata": {},
   "source": [
    "### Question 2:\n",
    "In English describe the content of the database collection. \n",
    "\n",
    "- Test the command \n",
    "<pre style=\"background-color: #ebece4;padding: 10px;border-left: solid 4px navy;\">\n",
    "db.cities.find().pretty()\n",
    "</pre> \n",
    "\n",
    "<span style=\"color:RED\">Include a sample of the result and your description of what that command does.</span>"
   ]
  },
  {
   "cell_type": "markdown",
   "metadata": {},
   "source": [
    "<hr style=\"border: 3px double navy;\" >\n",
    "Using the [MongoDB Reference](https://docs.mongodb.com/manual/reference/mongo-shell/), or the information from the slides, answer the following queries using the cities collection."
   ]
  },
  {
   "cell_type": "markdown",
   "metadata": {},
   "source": [
    "### Query 1:\n",
    "List all the cities of the State of Colorado.\n",
    "\n",
    "<span style=\"color:RED\">Place your code and a sample of the result here.</span>"
   ]
  },
  {
   "cell_type": "markdown",
   "metadata": {},
   "source": [
    "### Query 2:\n",
    "List the first 10 cities of the State of Colorado.\n",
    "\n",
    "<span style=\"color:RED\">Place your code and a sample of the result here.</span>"
   ]
  },
  {
   "cell_type": "markdown",
   "metadata": {},
   "source": [
    "### Query 3:\n",
    "List the 10 cities of the State of Colorado with most population\n",
    "\n",
    "<span style=\"color:RED\">Place your code and a sample of the result here.</span>"
   ]
  },
  {
   "cell_type": "markdown",
   "metadata": {},
   "source": [
    "### Query 4:\n",
    "List the 10 cities with most population\n",
    "\n",
    "<span style=\"color:RED\">Place your code and a sample of the result here.</span>"
   ]
  },
  {
   "cell_type": "markdown",
   "metadata": {},
   "source": [
    "<hr style=\"border: 3px double navy;\" >\n",
    "## Map-Reduce on MongoDB\n",
    "As we discussed in class, we can run map-reduce jobs on Mongodb\n",
    "\n",
    "Let's count the number of cities per state.\n",
    "\n",
    "<pre style=\"background-color: #ebece4;padding: 10px;border-left: solid 4px navy;\">\n",
    "db.cities.mapReduce(\n",
    "                    function()           { emit(this.state,1); }, \n",
    "                    function(key,values) {return key,Array.sum(values);}, \n",
    "                    { out: \"citiesPerState\" } \n",
    "                   )\n",
    "</pre>\n",
    "\n",
    "That code will generate a new collection instead of displaying the result. \n",
    "Use the commands discussed before to list the collections and to get the information from the new collection.\n",
    "\n",
    "<span style=\"color:RED\">Place your code output (map-reduce) here.</span>\n",
    "<hr>\n",
    "<span style=\"color:RED\">Place the list of collections here.</span>\n",
    "<hr>\n",
    "<span style=\"color:RED\">Place the content of the new collection here.</span>"
   ]
  },
  {
   "cell_type": "markdown",
   "metadata": {},
   "source": [
    "<hr style=\"border: 3px double navy;\" >\n",
    "## Map-Reduce on MongoDB\n",
    "As we discussed in class, we can run map-reduce jobs on Mongodb\n",
    "\n",
    "Let's count the number of cities per state.\n",
    "\n",
    "<pre style=\"background-color: #ebece4;padding: 10px;border-left: solid 4px navy;\">\n",
    "db.cities.mapReduce(\n",
    "                    function()           { emit(this.state,1); }, \n",
    "                    function(key,values) {return key,Array.sum(values);}, \n",
    "                    { out: \"citiesPerState\" } \n",
    "                   )\n",
    "</pre>\n",
    "\n",
    "That code will generate a new collection instead of displaying the result. \n",
    "Use the commands discussed before to list the collections and to get the information from the new collection.\n",
    "\n",
    "<span style=\"color:RED\">Place your code output (map-reduce) here.</span>\n",
    "<hr>\n",
    "<span style=\"color:RED\">Place the list of collections here.</span>\n",
    "<hr>\n",
    "<span style=\"color:RED\">Place the content of the new collection here.</span>"
   ]
  },
  {
   "cell_type": "markdown",
   "metadata": {},
   "source": [
    "### Map-Reduce Query 1:\n",
    "Generate a collection called **populationPerState** that contains the population of each state.\n",
    "\n",
    "<span style=\"color:RED\">Place your code, code output and a sample of the result here.</span>"
   ]
  },
  {
   "cell_type": "markdown",
   "metadata": {},
   "source": [
    "### Map-Reduce Query 2:\n",
    "Generate a collection called **totalPopulation** that contains the entire population of the USA.\n",
    "\n",
    "<span style=\"color:RED\">Place your code, code output and a sample of the result here.</span>\n",
    "\n",
    "> Hint: you can use your previous computed collection."
   ]
  },
  {
   "cell_type": "markdown",
   "metadata": {},
   "source": [
    "<span style=\"text-align:center;font-size:30px;color:#2F632A\">\n",
    "&nbsp;&nbsp;&nbsp;&nbsp;&nbsp;&nbsp;Stop and Delete your Docker WHEN YOU ARE FINNISHED \n",
    "</span>\n",
    "<br><hr style=\"border: 3px double navy;\" >\n",
    "<br>"
   ]
  },
  {
   "cell_type": "markdown",
   "metadata": {},
   "source": [
    "# <span style=\"color:#3665af\">REDIS </span><span style=\"font-size:15px\">(Estimated time: 4 hours) </span>\n",
    "<hr>\n",
    "The objective of this assignment is to introduce the use of REDIS (an in-memory data store) to collect data from various sources for subsequent data processing. \n",
    "\n",
    "For this assignment, we will be using REDIS on Google Cloud and Twiter Python libraries.\n",
    "\n",
    "<b><u>Notebook Layout (Table of contents):</u></b>\n",
    "1. Environment Set-up\n",
    "   - Deployment a REDIS Cluster\n",
    "   - Network Configuration\n",
    "   - Enabling Remote Access\n",
    "   - Installing Python libraries\n",
    "2. Getting Familiar with REDIS\n",
    "3. Retrieving Information From Twitter\n",
    "   - Creating Twitter Credentials\n",
    "   - Accessing Twitter\n",
    "   - Saving Tweets to REDIS\n",
    "   - Retrieving Tweets from REDIS\n",
    "4. Load Database From CSV\n"
   ]
  },
  {
   "cell_type": "markdown",
   "metadata": {},
   "source": [
    "<div style=\"font-size:30px;color:#3665af;background-color:#E9E9F5;padding:10px;\">1. Environment Set-up </div>\n",
    "\n",
    "For this assignment we will be using the REDIS deployment on Google Cloud. Please follow the instructions to set up the cluster. You can opt to install REDIS on your own system. We don't recommend this approach though.<br><br>\n",
    "\n",
    "<div style=\"font-size:20px;color:#F1F8FC;background-color:#0095EA;padding:10px;\">1.1. Deployment a REDIS Cluster </div>\n",
    "\n",
    "Go to the Menu and select **Cloud Launcher**. Then use the search box, and search REDIS.\n",
    "\n",
    "<img src=\"img/redis_launcher.png\" style=\"width:1000px;\">\n",
    "\n",
    "We will deploy a REDIS cluster using three small-cpu nodes:\n",
    "- **Name**: redis-1\n",
    "- **Zone**: us-central1-f\n",
    "- **Instance Count**: 3\n",
    "- **Machine Type**: small (1.7Gb memory)\n",
    "- **Boot Disk size**: 50GB\n",
    "\n",
    "All other parameters are set to default values. The cost of this deployment is the same as that of any other VM created on the cloud. Your deployment configuration should be similar to this:<br>\n",
    "\n",
    "<img src=\"img/redis_deployment.png\" style=\"width:1000px;\">\n",
    "\n"
   ]
  },
  {
   "cell_type": "markdown",
   "metadata": {},
   "source": [
    "<div style=\"font-size:20px;color:#F1F8FC;background-color:#0095EA;padding:10px;\">1.2. Network Configuration </div>\n",
    "Once you have your cluster deployed, we need to setup a firewall rule to allow us access from our Jupyter-Notebook. To do that, go to the menu, and select **VPC Network**. Then select Firewall Rules and create a new rule as depicted below:\n",
    "\n",
    "\n",
    "![terminal](img/network.png)\n",
    "\n",
    "\n"
   ]
  },
  {
   "cell_type": "markdown",
   "metadata": {},
   "source": [
    "<div style=\"font-size:20px;color:#F1F8FC;background-color:#0095EA;padding:10px;\">\n",
    "    1.3. Enabling Remote Access to REDIS\n",
    "</div>\n",
    "\n",
    "After creating the firewall rule, we also need to configure REDIS to allow access from the external network. Follow this procedure to accomplish that:\n",
    "\n",
    "- Open the SSH terminal to the main server, by selecting SSH on the _redis-1-db-vm-0_ VM (the Compute Engine menu on the Cloud).\n",
    "\n",
    "<img src=\"img/redis_vm.png\" style=\"width:550px;\">\n",
    " \n",
    "- Launch the REDIS Client on the console \n",
    "\n",
    "<pre style=\"background-color: #ebece4;padding: 10px;border-left: solid 4px orange;\">\n",
    "redis-cli\n",
    "</pre>\n",
    "\n",
    "- Within the client change the config to disable protected mode\n",
    "\n",
    "<pre style=\"background-color: #ebece4;padding: 10px;border-left: solid 4px navy;\">\n",
    "CONFIG SET protected-mode no\n",
    "</pre>\n",
    "You should get an **OK** message. Then type:\n",
    "<pre style=\"background-color: #ebece4;padding: 10px;border-left: solid 4px navy;\">\n",
    "quit\n",
    "</pre>\n",
    "\n",
    "Once this is completed, we should be able to access REDIS through the public ip we get on the VM list\n",
    "\n",
    "<img src=\"img/redis_vm_ip.png\" style=\"width:550px;\">\n"
   ]
  },
  {
   "cell_type": "markdown",
   "metadata": {},
   "source": [
    "<div style=\"font-size:20px;color:#F1F8FC;background-color:#0095EA;padding:10px;\">\n",
    "    1.4. Installing Python libraries\n",
    "</div>\n",
    "\n",
    "You need to install two libraries for this assignment: \n",
    "- REDIS library, and\n",
    "- Twitter library.\n",
    "\n",
    "- On your machine, where you run the Jupyter Notebook, open a new terminal (use the Anaconda terminal), and run\n",
    "\n",
    "<pre style=\"background-color: #ebece4;padding: 10px;border-left: solid 4px orange;\">\n",
    "pip install tweepy\n",
    "pip install redis\n",
    "</pre>\n",
    "\n",
    "\n"
   ]
  },
  {
   "cell_type": "markdown",
   "metadata": {},
   "source": [
    "<div style=\"font-size:30px;color:#3665af;background-color:#E9E9F5;padding:10px;\">\n",
    "    2. Getting Familiar with <b>REDIS</b> \n",
    "</div>\n",
    "\n",
    "You will found the REDIS commands [here](https://redis.io/commands)"
   ]
  },
  {
   "cell_type": "code",
   "execution_count": null,
   "metadata": {},
   "outputs": [],
   "source": [
    "##Import the library\n",
    "import redis"
   ]
  },
  {
   "cell_type": "code",
   "execution_count": null,
   "metadata": {},
   "outputs": [],
   "source": [
    "## Connect to the server\n",
    "REDIS_SERVER = 'Your REDIS IP address'\n",
    "REDIS_PORT   = 6379\n",
    "myRedis = redis.StrictRedis(host=REDIS_SERVER, port=REDIS_PORT, db=0)"
   ]
  },
  {
   "cell_type": "code",
   "execution_count": null,
   "metadata": {},
   "outputs": [],
   "source": [
    "## Dropping Everything we got on REDIS\n",
    "display(myRedis.flushdb())\n",
    "display(myRedis.flushall())"
   ]
  },
  {
   "cell_type": "code",
   "execution_count": null,
   "metadata": {},
   "outputs": [],
   "source": [
    "print(\"I'm storing a value on the key 'myKey'\")\n",
    "display(myRedis.set('myKey', 'This is the key value'))\n",
    "print(\"I'm reading the value of 'myKey' from REDIS\")\n",
    "display(myRedis.get('myKey'))"
   ]
  },
  {
   "cell_type": "code",
   "execution_count": null,
   "metadata": {},
   "outputs": [],
   "source": [
    "print(\"I'm storing a List on REDIS\")\n",
    "\n",
    "print(\"Adding elements to the end of the list\")\n",
    "display(myRedis.rpush('weekdays','Tuesday'))\n",
    "display(myRedis.rpush('weekdays','Wednesday'))\n",
    "display(myRedis.rpush('weekdays','Thursday'))\n",
    "display(myRedis.rpush('weekdays','Friday'))\n",
    "print(\"Current List Length:\", myRedis.llen('weekdays'))\n",
    "display(\"Current Weekdays Content:\",myRedis.lrange('weekdays',0,-1))\n",
    "\n",
    "\n",
    "print(\"Adding elements to the beginning of the list\")\n",
    "display(myRedis.lpush('weekdays','Monday'))\n",
    "\n",
    "print(\"Current List Length:\", myRedis.llen('weekdays'))\n",
    "display(\"Current Weekdays Content:\",myRedis.lrange('weekdays',0,-1))\n"
   ]
  },
  {
   "cell_type": "code",
   "execution_count": null,
   "metadata": {},
   "outputs": [],
   "source": [
    "print(\"I'm storing a HASH on REDIS\")\n",
    "print(\"- Remember that hashes can be used to store documents!\")\n",
    "\n",
    "#create a dictionary\n",
    "user = {\"Name\"    :\"myName\", \n",
    "        \"Company\" :\"myCompany\", \n",
    "        \"Address\" :\"myAddress\", \n",
    "        \"Location\":\"MyLocation\"}\n",
    "\n",
    "print (\"Store to REDIS\")\n",
    "display(myRedis.hmset(\"userDictionary\", user))\n",
    "\n",
    "print (\"Retrieve from REDIS\")\n",
    "display(myRedis.hgetall(\"userDictionary\"))\n"
   ]
  },
  {
   "cell_type": "markdown",
   "metadata": {},
   "source": [
    "<div style=\"font-size:30px;color:#3665af;background-color:#E9E9F5;padding:10px;\">\n",
    "    3. Retrieving Information From Twitter</div>\n",
    "<br>\n",
    "<div style=\"font-size:20px;color:#F1F8FC;background-color:#0095EA;padding:10px;\">\n",
    "    3.1. Creating Twitter Credentials\n",
    "</div>\n",
    "\n",
    "In order to be able to access tweets from our application, we need a Tweeter account, consumer keys and access tokens.\n",
    "\n",
    "To generates these, go to (https://apps.twitter.com) and **Create a New App**. Fill in the form and agree with the terms.\n",
    "\n",
    "Once that's done, select your app and the tab **Keys and Access Tokens**\n",
    "\n",
    "<img src=\"img/twitter.PNG\" style=\"width:550px;\">\n"
   ]
  },
  {
   "cell_type": "markdown",
   "metadata": {},
   "source": [
    "<div style=\"font-size:20px;color:#F1F8FC;background-color:#0095EA;padding:10px;\">\n",
    "    3.2. Accessing Twitter\n",
    "</div>\n"
   ]
  },
  {
   "cell_type": "code",
   "execution_count": null,
   "metadata": {},
   "outputs": [],
   "source": [
    "import tweepy\n",
    "from tweepy import OAuthHandler\n",
    " \n",
    "consumer_key    = 'PLACE_YOUR_KEYS'\n",
    "consumer_secret = 'PLACE_YOUR_KEYS'\n",
    "access_token    = 'PLACE_YOUR_KEYS'\n",
    "access_secret   = 'PLACE_YOUR_KEYS'\n",
    " \n",
    "auth = OAuthHandler(consumer_key, consumer_secret)\n",
    "auth.set_access_token(access_token, access_secret)\n",
    " \n",
    "api = tweepy.API(auth)"
   ]
  },
  {
   "cell_type": "code",
   "execution_count": null,
   "metadata": {},
   "outputs": [],
   "source": [
    "for tweet in tweepy.Cursor(api.home_timeline).items(2):\n",
    "    # Process a single tweet\n",
    "\n",
    "    print(tweet._json.keys())\n",
    "    print()\n",
    "    print(tweet._json[\"id\"])\n",
    "    print(tweet._json[\"text\"])\n",
    "    print(tweet._json[\"source\"])\n",
    "    print(tweet._json[\"lang\"])\n",
    "    print(tweet._json[\"retweeted\"])    \n",
    "    print(tweet._json[\"retweet_count\"])\n",
    "    print(tweet._json[\"favorite_count\"])\n",
    "    print()\n",
    "    "
   ]
  },
  {
   "cell_type": "markdown",
   "metadata": {},
   "source": [
    "<div style=\"font-size:20px;color:#F1F8FC;background-color:#0095EA;padding:10px;\">\n",
    "    3.2. Saving Tweets to REDIS\n",
    "</div>\n"
   ]
  },
  {
   "cell_type": "code",
   "execution_count": null,
   "metadata": {},
   "outputs": [],
   "source": [
    "# Lets save tweets\n",
    "\n",
    "howManyTweets = 20\n",
    "\n",
    "for tweet in tweepy.Cursor(api.home_timeline).items(howManyTweets):\n",
    "    # Process a single tweet\n",
    "    \n",
    "    ##Formatting the tweet \n",
    "    redisTweet = {\n",
    "                  \"text\"           :tweet._json[\"text\"].encode('utf-8'), \n",
    "                  \"source\"         :tweet._json[\"source\"].encode('utf-8'), \n",
    "                  \"lang\"           :tweet._json[\"lang\"].encode('utf-8'), \n",
    "                  \"source\"         :tweet._json[\"source\"].encode('utf-8'), \n",
    "                  \"retweet_count\"  :tweet._json[\"retweet_count\"], \n",
    "                  \"favorite_count\" :tweet._json[\"favorite_count\"]\n",
    "                 }\n",
    "\n",
    "    ## Saving the tweet as HASH\n",
    "    myRedis.hmset(tweet._json[\"id\"], redisTweet)\n",
    "    #display(tweet._json[\"id\"])\n",
    "    \n",
    "    ## Adding the Tweet id to the list of tweets\n",
    "    myRedis.rpush(\"tweets\",str(tweet._json[\"id\"]))\n",
    "       \n",
    "print(\"Done!\")"
   ]
  },
  {
   "cell_type": "markdown",
   "metadata": {},
   "source": [
    "<div style=\"font-size:20px;color:#F1F8FC;background-color:#0095EA;padding:10px;\">\n",
    "    3.2. Retrieving Tweets from REDIS\n",
    "</div>\n"
   ]
  },
  {
   "cell_type": "code",
   "execution_count": null,
   "metadata": {},
   "outputs": [],
   "source": [
    "for id in myRedis.lrange(\"tweets\",0,99):\n",
    "    print()\n",
    "    print(\"Displaying Tweet with ID:\",id)\n",
    "    print(\"Text:\",myRedis.hmget(id,\"text\"))\n",
    "    print(\"ALL DATA:\",myRedis.hgetall(id))\n",
    "    print(\"========================================================================\")"
   ]
  },
  {
   "cell_type": "markdown",
   "metadata": {},
   "source": [
    "<div style=\"font-size:30px;color:#3665af;background-color:#E9E9F5;padding:10px;\">\n",
    "    4. Load Database From CSV\n",
    "</div>\n",
    "\n",
    "Using all you have learned so far, load the dataset from the CITES Wildlife Trade Database competition available [here](https://www.kaggle.com/cites/cites-wildlife-trade-database/data) into REDIS using a Document structure, in a similar fashion used for Twitter.\n",
    "\n",
    "Using the data loaded into REDIS, compute the number of animals per class for each importer.\n",
    "\n",
    "Your output should be similar to this:\n",
    "\n",
    "US . Carnivora . XXX\n",
    "US . Aves . XXX\n",
    "...\n",
    "\n",
    "Measure the running time, and present the average running time for the load and the processing operations.\n",
    "\n",
    "**Please also explain your code**"
   ]
  },
  {
   "cell_type": "markdown",
   "metadata": {},
   "source": [
    "\n",
    "PLACE YOUR ANSWERS/CODE IN CELLS BELOW\n"
   ]
  },
  {
   "cell_type": "code",
   "execution_count": null,
   "metadata": {},
   "outputs": [],
   "source": []
  },
  {
   "cell_type": "code",
   "execution_count": null,
   "metadata": {},
   "outputs": [],
   "source": []
  },
  {
   "cell_type": "markdown",
   "metadata": {},
   "source": [
    "<div style=\"font-size:20px;background-color:#BE6D00;color:#F6EFE5;padding:10px;text-align:center;\">\n",
    "STOP YOUR CLUSTER WHEN YOU ARE NOT WORKING<br><br>\n",
    "ONCE YOU ARE FINISHED, DELETE YOUR CLUSTER\n",
    "</div>\n",
    "<hr style=\"border: 3px double navy;\" >\n",
    "<br>"
   ]
  },
  {
   "cell_type": "code",
   "execution_count": null,
   "metadata": {},
   "outputs": [],
   "source": []
  }
 ],
 "metadata": {
  "kernelspec": {
   "display_name": "Python 3",
   "language": "python",
   "name": "python3"
  },
  "language_info": {
   "codemirror_mode": {
    "name": "ipython",
    "version": 3
   },
   "file_extension": ".py",
   "mimetype": "text/x-python",
   "name": "python",
   "nbconvert_exporter": "python",
   "pygments_lexer": "ipython3",
   "version": "3.7.6"
  }
 },
 "nbformat": 4,
 "nbformat_minor": 4
}
