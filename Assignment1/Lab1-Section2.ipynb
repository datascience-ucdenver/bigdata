{
 "cells": [
  {
   "cell_type": "markdown",
   "metadata": {},
   "source": [
    "<h1 style='text-aling:center;color:Navy'>  Big Data Systems - Laboratory 1  </h1>"
   ]
  },
  {
   "cell_type": "markdown",
   "metadata": {},
   "source": [
    "Topics included in this lab:\n",
    " 1) Map-Reduce (20 minutes)\n",
    " 2) Semistructured DS: Spanner DB (20 minutes)\n",
    " 3) Bigtable (20 minutes)\n",
    "\n",
    "We have allocated 15 minutes for set up and/or to address any other issues. \n",
    "\n",
    "\n",
    "This is the first Lab for the Big Data Systems course - Spring 2018.<br>\n",
    "We are covering the following topics:\n",
    "<li>Map-Reduce,</li>\n",
    "<li>Spanner and</li>\n",
    "<li>Bigtable</li>\n",
    "<br>\n",
    "The lab will have an in-class section as well as a homework section. <br>\n",
    "You need to submit your in-class notebook before the end of the class. For the homework section, please refer to Canvas for the due date.\n",
    "\n",
    "\n",
    " "
   ]
  },
  {
   "cell_type": "markdown",
   "metadata": {},
   "source": [
    "# <span style=\"color:#3665af\">Section #2: Spanner </span><span style=\"font-size:15px\">(Estimated time: 20 minutes) </span>\n",
    "\n",
    "<hr>\n",
    "In this section we will practice how to use Google's Spanner database. \n",
    "## Pre-reqs:\n",
    "Your Google cloud account should be ready to deploy services.<br>\n",
    "\n",
    "### Create a Spanner Instance.\n",
    "\n",
    "- Create a spanner instace, and annotate the Instance ID. \n",
    "- We will use lab1-section2 as instance id in this lab; if you are using another id, you need to change in the connection settings. \n",
    "- For this test, configuring one node will suffice. \n",
    "\n",
    "### Installing the Python Client. \n",
    "We need to have the google-cloud library installed in our system.<br>\n",
    "If you are using windows/mac, go to the anaconda navigator, then Environments. Click the arrow next to _base (root)_ and select Open terminal. <br>\n",
    "Then execute the following pip command to install the client library. "
   ]
  },
  {
   "cell_type": "markdown",
   "metadata": {},
   "source": [
    "``` bash\n",
    "$> pip install google-cloud\n",
    "```"
   ]
  },
  {
   "cell_type": "markdown",
   "metadata": {},
   "source": [
    "### Getting the Service Account File\n",
    "As mentioned in the cloud setup instructions, you need to generate a token file so you will be able to connect to spanner. Refer to that document for help. <br>\n",
    "Here is the summary of the steps. \n",
    "1. Go to APIS & Services\n",
    "2. Go to Credentials\n",
    "3. Select Create Credentials, and choose Service account key.\n",
    "4. Select Compute Engine default service account and Key type JSON. Then Create. \n",
    "5. Pick the file that was automatically downloaded, and store it in your BSD directory. \n"
   ]
  },
  {
   "cell_type": "markdown",
   "metadata": {},
   "source": [
    "## Hands on..."
   ]
  },
  {
   "cell_type": "code",
   "execution_count": null,
   "metadata": {},
   "outputs": [],
   "source": [
    "# Imports the Google Cloud Client Library.\n",
    "from google.cloud import spanner"
   ]
  },
  {
   "cell_type": "code",
   "execution_count": null,
   "metadata": {},
   "outputs": [],
   "source": [
    "JSON_SERVICE_KEY = 'path/filename to the google cloud key'"
   ]
  },
  {
   "cell_type": "markdown",
   "metadata": {},
   "source": [
    "You can learn more about creating instances and using Spanner with Python at [Google Documentation](https://cloud.google.com/spanner/docs/getting-started/python/)\n"
   ]
  },
  {
   "cell_type": "code",
   "execution_count": null,
   "metadata": {},
   "outputs": [],
   "source": [
    "def explicit():\n",
    "    ## Function to connect to spanner\n",
    "    from google.cloud import storage\n",
    "\n",
    "    # Explicitly use service account credentials by specifying the private key\n",
    "    # file.\n",
    "    storage_client = storage.Client.from_service_account_json(JSON_SERVICE_KEY)\n",
    "\n",
    "    # Make an authenticated API request\n",
    "    buckets = list(storage_client.list_buckets())\n",
    "    print(buckets)"
   ]
  },
  {
   "cell_type": "markdown",
   "metadata": {},
   "source": [
    "You can get help about authentication at [Google Documentation](https://cloud.google.com/docs/authentication/production#auth-cloud-explicit-python)\n"
   ]
  },
  {
   "cell_type": "markdown",
   "metadata": {},
   "source": [
    "## Warm up\n",
    "<hr>"
   ]
  },
  {
   "cell_type": "code",
   "execution_count": null,
   "metadata": {},
   "outputs": [],
   "source": [
    "\n",
    "# Instantiate a client.\n",
    "spanner_client = spanner.Client()\n",
    "\n",
    "# Your Cloud Spanner instance ID.\n",
    "instance_id = 'lab1-section2'\n",
    "\n",
    "# Get a Cloud Spanner instance by ID.\n",
    "instance = spanner_client.instance(instance_id)\n",
    "\n",
    "# Your Cloud Spanner database ID.\n",
    "database_id = 'lab1-db'           # If you did not create the database already, createit using the cloud console\n",
    "\n",
    "# Get a Cloud Spanner database by ID.\n",
    "database = instance.database(database_id)\n",
    "\n",
    "# Execute a simple SQL statement.\n",
    "with database.snapshot() as snapshot:\n",
    "    results = snapshot.execute_sql('SELECT current_date')\n",
    "\n",
    "    for row in results:\n",
    "        print(row)"
   ]
  },
  {
   "cell_type": "markdown",
   "metadata": {},
   "source": [
    "If you didn't recevie an error and the current date was displayed, it means that at this point we're connected to our Spanner database.<rb>\n",
    "\n",
    "### Let's create a couple of tables\n",
    "This may take a minute. If you use your google cloud dashboard, you can see the two new tables as you refresh the page."
   ]
  },
  {
   "cell_type": "code",
   "execution_count": null,
   "metadata": {},
   "outputs": [],
   "source": [
    "operation =database.update_ddl(ddl_statements=[\n",
    "    \"\"\"CREATE TABLE Singers (\n",
    "        SingerId     INT64 NOT NULL,\n",
    "        FirstName    STRING(1024),\n",
    "        LastName     STRING(1024),\n",
    "        SingerInfo   BYTES(MAX)\n",
    "    ) PRIMARY KEY (SingerId)\"\"\"\n",
    "    ,\n",
    "    \"\"\"CREATE TABLE Albums (\n",
    "        SingerId     INT64 NOT NULL,\n",
    "        AlbumId      INT64 NOT NULL,\n",
    "        AlbumTitle   STRING(MAX)\n",
    "    ) PRIMARY KEY (SingerId, AlbumId),\n",
    "      INTERLEAVE IN PARENT Singers ON DELETE CASCADE\"\"\"\n",
    "])\n",
    "\n",
    "# operation = database.create()\n",
    "\n",
    "print('Waiting for operation to complete...')\n",
    "operation.result()\n",
    "\n",
    "print('Created tables in database {} on instance {}'.format( database_id, instance_id))"
   ]
  },
  {
   "cell_type": "markdown",
   "metadata": {},
   "source": [
    "### QUESTION:\n",
    "**_In which line the command that creates the database is actually executed on Spanner?_** Explain briefly. "
   ]
  },
  {
   "cell_type": "markdown",
   "metadata": {},
   "source": [
    "#### <span style=\"color:red\"> --- Answer HERE --- </span>"
   ]
  },
  {
   "cell_type": "markdown",
   "metadata": {},
   "source": [
    "### Let's insert some data"
   ]
  },
  {
   "cell_type": "code",
   "execution_count": null,
   "metadata": {},
   "outputs": [],
   "source": [
    "\n",
    "\"\"\"Inserts sample data into the given database.\n",
    "   The database and table must already exist.\n",
    "\"\"\"\n",
    "\n",
    "with database.batch() as batch:\n",
    "    batch.insert(\n",
    "        table='Singers',\n",
    "        columns=('SingerId', 'FirstName', 'LastName',),\n",
    "        values=[\n",
    "            (1, u'Marc', u'Richards'),\n",
    "            (2, u'Catalina', u'Smith'),\n",
    "            (3, u'Alice', u'Trentor'),\n",
    "            (4, u'Lea', u'Martin'),\n",
    "            (5, u'David', u'Lomond')])\n",
    "    batch.commit\n",
    "    \n",
    "    batch.insert(\n",
    "        table='Albums',\n",
    "        columns=('SingerId', 'AlbumId', 'AlbumTitle',),\n",
    "        values=[\n",
    "            (1, 1, u'Total Junk'),\n",
    "            (1, 2, u'Go, Go, Go'),\n",
    "            (2, 1, u'Green'),\n",
    "            (2, 2, u'Forever Hold Your Peace'),\n",
    "            (2, 3, u'Terrified')])\n",
    "    batch.commit\n",
    "print('Inserted data.')"
   ]
  },
  {
   "cell_type": "markdown",
   "metadata": {},
   "source": [
    "### QUESTION:\n",
    "**_How many statements were executed in Spanner?_** Explain briefly. "
   ]
  },
  {
   "cell_type": "markdown",
   "metadata": {},
   "source": [
    "#### <span style=\"color:red\"> --- Answer HERE --- </span>"
   ]
  },
  {
   "cell_type": "markdown",
   "metadata": {},
   "source": [
    "### Querying the database"
   ]
  },
  {
   "cell_type": "code",
   "execution_count": null,
   "metadata": {},
   "outputs": [],
   "source": [
    "\"\"\"Queries sample data from the database using SQL.\"\"\"\n",
    "\n",
    "\n",
    "with database.snapshot() as snapshot:\n",
    "    results = snapshot.execute_sql(\n",
    "        'SELECT SingerId, AlbumId, AlbumTitle FROM Albums')\n",
    "    \n",
    "    display(results)\n",
    "    \n",
    "    for row in results:\n",
    "        display(row)\n",
    "        print('SingerId: {}, AlbumId: {}, AlbumTitle: {}'.format(*row))\n",
    "        #print(\"SingerId: \",row[0],\", AlbumId: \",row[1],\", AlbumTitle: \",row[2], )"
   ]
  },
  {
   "cell_type": "markdown",
   "metadata": {},
   "source": [
    "### QUESTIONS:\n",
    "1. **What kind of object is _results_?**\n",
    "2. **What kind of object is _row_?**\n",
    "3. **How is row being accessed?** _**Tip**_: take a look at the commented line."
   ]
  },
  {
   "cell_type": "markdown",
   "metadata": {},
   "source": [
    "#### <span style=\"color:red\"> --- Answer HERE --- </span>\n",
    "1. answer\n",
    "2. answer\n",
    "3. answer"
   ]
  },
  {
   "cell_type": "code",
   "execution_count": null,
   "metadata": {},
   "outputs": [],
   "source": [
    "\"\"\"Reads sample data from the database.\"\"\"\n",
    "\n",
    "with database.snapshot() as snapshot:\n",
    "    keyset = spanner.KeySet(all_=True)\n",
    "    results = snapshot.read(\n",
    "        table='Albums',\n",
    "        columns=('SingerId', 'AlbumId', 'AlbumTitle',),\n",
    "        keyset=keyset,)\n",
    "\n",
    "    for row in results:\n",
    "        print('SingerId: {}, AlbumId: {}, AlbumTitle: {}'.format(*row))"
   ]
  },
  {
   "cell_type": "markdown",
   "metadata": {},
   "source": [
    "### QUESTIONS:\n",
    "**_What is the difference between the first and second part of the code?_**"
   ]
  },
  {
   "cell_type": "markdown",
   "metadata": {},
   "source": [
    "#### <span style=\"color:red\"> --- Answer HERE --- </span>"
   ]
  },
  {
   "cell_type": "markdown",
   "metadata": {},
   "source": [
    "## Let's load some interesting data\n",
    "<hr>"
   ]
  },
  {
   "cell_type": "code",
   "execution_count": null,
   "metadata": {},
   "outputs": [],
   "source": [
    "import pandas as pd\n",
    "import datetime\n",
    "from time import time"
   ]
  },
  {
   "cell_type": "code",
   "execution_count": null,
   "metadata": {},
   "outputs": [],
   "source": [
    "\n",
    "# Instantiate a client.\n",
    "spanner_client = spanner.Client()\n",
    "\n",
    "# Your Cloud Spanner instance ID.\n",
    "instance_id = 'lab1-section2'\n",
    "\n",
    "# Get a Cloud Spanner instance by ID.\n",
    "instance = spanner_client.instance(instance_id)\n",
    "\n",
    "# Your Cloud Spanner database ID.\n",
    "database_id = 'lab1-db2'                             ## Create new Database\n",
    "\n",
    "# Get a Cloud Spanner database by ID.\n",
    "database = instance.database(database_id)\n",
    "\n",
    "# Execute a simple SQL statement.\n",
    "with database.snapshot() as snapshot:\n",
    "    results = snapshot.execute_sql('SELECT current_date')\n",
    "\n",
    "    for row in results:\n",
    "        print(row)"
   ]
  },
  {
   "cell_type": "code",
   "execution_count": null,
   "metadata": {},
   "outputs": [],
   "source": [
    "start_time=time()\n",
    "operation =database.update_ddl(ddl_statements=[\n",
    "    \"\"\"CREATE TABLE RadiationMeasurements\n",
    "        (\n",
    "           CapturedTime timestamp,\n",
    "           Latitude float64,\n",
    "           Longitude float64,\n",
    "           Value float64,\n",
    "           Unit String(2048),\n",
    "           Location String(2048),\n",
    "           DeviceID String(2048),\n",
    "           MD5Sum String(2048),\n",
    "           Height String(2048),\n",
    "           Surface String(2048),\n",
    "           Radiation String(2048),\n",
    "           UploadedTime timestamp,\n",
    "           LoaderID float64\n",
    "        )PRIMARY KEY (CapturedTime,Latitude,Longitude,Location,UploadedTime,MD5Sum)\"\"\"\n",
    "])\n",
    "\n",
    "# operation = database.create()\n",
    "\n",
    "print('Waiting for operation to complete...')\n",
    "operation.result()\n",
    "\n",
    "print('Created tables in database {} on instance {}'.format(\n",
    "    database_id, instance_id))\n",
    "\n",
    "end_time=time()\n",
    "\n",
    "print (\"run time:\",end_time-start_time)"
   ]
  },
  {
   "cell_type": "code",
   "execution_count": null,
   "metadata": {},
   "outputs": [],
   "source": [
    "df_Measures        = pd.read_csv(\"/path/to/measurements.sample.csv\")"
   ]
  },
  {
   "cell_type": "code",
   "execution_count": null,
   "metadata": {},
   "outputs": [],
   "source": [
    "df_Measures.info()"
   ]
  },
  {
   "cell_type": "code",
   "execution_count": null,
   "metadata": {},
   "outputs": [],
   "source": [
    "myData=[]\n",
    "for index,row in df_Measures[0:5].iterrows():\n",
    "    aDateTime = datetime.datetime.strptime(row[\"Captured Time\"], '%Y-%m-%d %H:%M:%S')\n",
    "    display('Row: {}, Timestamp: {} Lat/Lon:{}/{}'.format(index,aDateTime,row[\"Latitude\"],row[\"Longitude\"]))\n",
    "    myData.append( (index,aDateTime)  )\n",
    "myData"
   ]
  },
  {
   "cell_type": "code",
   "execution_count": null,
   "metadata": {},
   "outputs": [],
   "source": [
    "#     ****************************************************************\n",
    "#     TO-DO: Write here a while/for to insert the Primary key data for the first 10 rows. \n",
    "#     ****************************************************************\n",
    "\n",
    "# --Hints:\n",
    "#     Adapt the code from the sample. \n",
    "#     Generate an array inserting tuples (you should use an array and the function append )\n",
    "\n",
    "\n",
    "### Write your code here.\n",
    "\n",
    "        "
   ]
  },
  {
   "cell_type": "markdown",
   "metadata": {},
   "source": [
    "# <span style=\"color:#5DB664\">DELETE YOUR SPANNER INSTANCE AS WHEN YOU FINNISHED </span>"
   ]
  },
  {
   "cell_type": "markdown",
   "metadata": {},
   "source": [
    "<hr><BR>"
   ]
  },
  {
   "cell_type": "markdown",
   "metadata": {},
   "source": [
    "# <span style=\"color:RED\">Homework: </span> Yelp Dataset\n",
    "<hr>\n",
    "Similar to the example above, we are going to be using the Yelp competition dataset available [here](https://www.kaggle.com/yelp-dataset/yelp-dataset/data). <br>\n",
    "You should:\n",
    "1. Download the dataset to your machine.\n",
    "2. Create a new database.\n",
    "3. Create the tables necessary, with the proper interleaving configuration to store the business and reviews.\n",
    "4. Load the yelp_business dataset.\n",
    "5. Load 10% of the yelp_review dataset.\n",
    "\n",
    "Hints:\n",
    "- You probably want to do several batchs. You can do that by using the **[start:end]** operator for the dataframes. \n",
    "- You may need to review the documentation for the [Spanner SQL](https://cloud.google.com/spanner/docs/query-syntax)\n",
    "\n",
    "## Questions:\n",
    "1. Report the time for loading each dataset.\n",
    "2. Compare the time to load the rows for the business and the reviews datasets.\n",
    "3. List the top 10 better/most rated businesses in Colorado. To simplify this, let's assume that the best rated business is the one with the higher sum of ratings. \n",
    "\n"
   ]
  },
  {
   "cell_type": "code",
   "execution_count": 1,
   "metadata": {},
   "outputs": [],
   "source": [
    "## PLACE YOUR CODE STARTING THIS POINT. "
   ]
  },
  {
   "cell_type": "markdown",
   "metadata": {},
   "source": [
    "<hr style=\"border: 3px double navy;\" ><br><br><br>"
   ]
  }
 ],
 "metadata": {
  "kernelspec": {
   "display_name": "Python 3",
   "language": "python",
   "name": "python3"
  },
  "language_info": {
   "codemirror_mode": {
    "name": "ipython",
    "version": 3
   },
   "file_extension": ".py",
   "mimetype": "text/x-python",
   "name": "python",
   "nbconvert_exporter": "python",
   "pygments_lexer": "ipython3",
   "version": "3.6.4"
  }
 },
 "nbformat": 4,
 "nbformat_minor": 2
}
