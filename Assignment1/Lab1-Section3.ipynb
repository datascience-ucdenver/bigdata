{
 "cells": [
  {
   "cell_type": "markdown",
   "metadata": {},
   "source": [
    "<h1 style='text-aling:center;color:Navy'>  Big Data Systems - Laboratory 1  </h1>"
   ]
  },
  {
   "cell_type": "markdown",
   "metadata": {},
   "source": [
    "Topics included in this lab:\n",
    " 1) Map-Reduce (20 minutes)\n",
    " 2) Semistructured DS: Spanner DB (20 minutes)\n",
    " 3) Bigtable (20 minutes)\n",
    "\n",
    "We have allocated 15 minutes for set up and/or to address any other issues. \n",
    "\n",
    "\n",
    "This is the first Lab for the Big Data Systems course - Spring 2018.<br>\n",
    "We are covering the following topics:\n",
    "<li>Map-Reduce,</li>\n",
    "<li>Spanner and</li>\n",
    "<li>Bigtable</li>\n",
    "<br>\n",
    "The lab will have an in-class section as well as a homework section. <br>\n",
    "You need to submit your in-class notebook before the end of the class. For the homework section, please refer to Canvas for the due date."
   ]
  },
  {
   "cell_type": "markdown",
   "metadata": {},
   "source": [
    "# <span style=\"color:#3665af\">Section #3: Bigtable </span><span style=\"font-size:15px\">(Estimated time: 20 minutes) </span>\n",
    "\n",
    "<hr>\n",
    "In this section we will practice how to use Google's Bigtable database. \n",
    "## Pre-reqs:\n",
    "Your Google cloud account should be ready to deploy services.<br>\n",
    "\n",
    "### Create a Bigtable Instance\n",
    "\n",
    "- Create a development Bigtable instace, and annotate the Instance ID. \n",
    "- We will use lab1-section3 instance id in this lab; if you are using another id, you need to change in the connection settings. \n",
    "- For this test, use a development instance, which has only one node but is way cheaper. \n",
    "\n",
    "\n",
    "### Installing the Python Client\n",
    "We need to have the google cloud library installed in our system.<br>\n",
    "If you are using windows/mac, go to the Anaconda navigator, then Environments. Click the arrow next to _base (root)_ and select Open terminal. <br>\n",
    "Then execute the following pip command to install the client library. \n",
    "\n",
    "<pre>\n",
    "$> pip install google-cloud \n",
    "$> pip install google-cloud-happybase\n",
    "</pre>\n",
    "\n",
    "### Getting the Service Account File\n",
    "As mentioned in the cloud set up instructions, you need to generate a token file so you will be able to connect to bigtable. Refer to that document for help, especially if you did not manage to implement lab 1 section #2\n",
    "\n",
    "Documentation [here](http://google-cloud-python.readthedocs.io/en/latest/bigtable/usage.html)"
   ]
  },
  {
   "cell_type": "markdown",
   "metadata": {},
   "source": [
    "## Hands on..."
   ]
  },
  {
   "cell_type": "code",
   "execution_count": null,
   "metadata": {},
   "outputs": [],
   "source": [
    "JSON_SERVICE_KEY = 'JSON SERVICE KEY PATH AND FILENAME'"
   ]
  },
  {
   "cell_type": "markdown",
   "metadata": {},
   "source": [
    "You can learn more about creating instances and using Spanner with Python at [Google Documentation](https://cloud.google.com/spanner/docs/getting-started/python/)\n"
   ]
  },
  {
   "cell_type": "code",
   "execution_count": null,
   "metadata": {},
   "outputs": [],
   "source": [
    "def explicit():\n",
    "    ## Function to connect to spanner\n",
    "    from google.cloud import storage\n",
    "\n",
    "    # Explicitly use service account credentials by specifying the private key\n",
    "    # file.\n",
    "    storage_client = storage.Client.from_service_account_json(JSON_SERVICE_KEY)\n",
    "\n",
    "    # Make an authenticated API request\n",
    "    buckets = list(storage_client.list_buckets())\n",
    "    print(buckets)"
   ]
  },
  {
   "cell_type": "markdown",
   "metadata": {},
   "source": [
    "You can get help about authentication at [Google Documentation](https://cloud.google.com/docs/authentication/production#auth-cloud-explicit-python)\n"
   ]
  },
  {
   "cell_type": "markdown",
   "metadata": {},
   "source": [
    "## Warm up\n",
    "<hr>"
   ]
  },
  {
   "cell_type": "code",
   "execution_count": null,
   "metadata": {},
   "outputs": [],
   "source": [
    "project_id  = \"bigdatasystems-spring2018\"\n",
    "instance_id = \"lab1-section3\""
   ]
  },
  {
   "cell_type": "markdown",
   "metadata": {},
   "source": [
    "## <span style=\"color:#5DB664\">Using Bigtable Client</span>"
   ]
  },
  {
   "cell_type": "code",
   "execution_count": null,
   "metadata": {},
   "outputs": [],
   "source": [
    "# Imports the Google Cloud Client Library.\n",
    "from google.cloud import bigtable\n",
    "\n",
    "# The client must be created with admin=True because it will create a table.\n",
    "client     = bigtable.Client(project=project_id, admin=True)\n",
    "instance   = client.instance(instance_id)\n"
   ]
  },
  {
   "cell_type": "markdown",
   "metadata": {},
   "source": [
    "I you didn't receive an error, it means that at this point we're connected to our Bigtable database.<rb>\n",
    "\n",
    "### Let's create a table"
   ]
  },
  {
   "cell_type": "code",
   "execution_count": null,
   "metadata": {},
   "outputs": [],
   "source": [
    "table_name  = \"greetings\"\n",
    "print('Creating the {} table.'.format(table_name))\n",
    "\n",
    "table = instance.table(table_name)\n",
    "table.create()\n",
    "\n",
    "column_family_name = 'cf1'\n",
    "cf1 = table.column_family(column_family_name)\n",
    "cf1.create()\n",
    "\n",
    "#table.delete()  #to delete the table.\n",
    "\n",
    "print(\"done!\")\n",
    "### WARNING\n",
    "#\n",
    "## You will get an error the first time saying that you did not enable admin api. \n",
    "## A link will be given. Follow it and enable the API And retry."
   ]
  },
  {
   "cell_type": "markdown",
   "metadata": {},
   "source": [
    "### Inserting data"
   ]
  },
  {
   "cell_type": "code",
   "execution_count": null,
   "metadata": {},
   "outputs": [],
   "source": [
    "print('Writing some greetings to the table.')\n",
    "column_name = 'greeting'.encode('utf-8')\n",
    "greetings = [\n",
    "    'Hello World!',\n",
    "    'Hello Cloud Bigtable!',\n",
    "    'Hello Bigtable with Python!',\n",
    "]\n",
    "\n",
    "for i, value in enumerate(greetings):\n",
    "    row_key = 'greeting{}'.format(i)\n",
    "    row = table.row(row_key)\n",
    "    row.set_cell(   \n",
    "                    column_family_name,\n",
    "                    column_name,\n",
    "                    value.encode('utf-8')\n",
    "                )\n",
    "    row.commit()\n",
    "    \n",
    "\n",
    "print('done!')"
   ]
  },
  {
   "cell_type": "markdown",
   "metadata": {},
   "source": [
    "### Reading data"
   ]
  },
  {
   "cell_type": "code",
   "execution_count": null,
   "metadata": {},
   "outputs": [],
   "source": [
    "print('Getting a single greeting by row key.')\n",
    "key = 'greeting0'\n",
    "\n",
    "row = table.read_row(key.encode('utf-8'))\n",
    "\n",
    "value = row.cells[column_family_name][column_name][0].value\n",
    "\n",
    "print('\\t{}: {}'.format(key, value.decode('utf-8')))"
   ]
  },
  {
   "cell_type": "code",
   "execution_count": null,
   "metadata": {},
   "outputs": [],
   "source": [
    "print('Scanning for all greetings:')\n",
    "partial_rows = table.read_rows()\n",
    "partial_rows.consume_all()\n",
    "\n",
    "for row_key, row in partial_rows.rows.items():\n",
    "    key = row_key.decode('utf-8')\n",
    "    cell = row.cells[column_family_name][column_name][0]\n",
    "    value = cell.value.decode('utf-8')\n",
    "    print('\\t{}: {}'.format(key, value))"
   ]
  },
  {
   "cell_type": "markdown",
   "metadata": {},
   "source": [
    "<hr>"
   ]
  },
  {
   "cell_type": "markdown",
   "metadata": {},
   "source": [
    "## <span style=\"color:#5DB664\">Using Happybase Client</span>"
   ]
  },
  {
   "cell_type": "code",
   "execution_count": null,
   "metadata": {},
   "outputs": [],
   "source": [
    "# Imports the Google Cloud Client Library.\n",
    "from google.cloud import happybase\n",
    "\n",
    "# The client must be created with admin=True because it will create a table.\n",
    "\n",
    "client     = bigtable.Client(project=project_id, admin=True)\n",
    "instance   = client.instance(instance_id)\n",
    "connection = happybase.Connection(instance=instance)"
   ]
  },
  {
   "cell_type": "markdown",
   "metadata": {},
   "source": [
    "I you didn't receive an error, it means that at this point we're connected to our Bigtable database.<rb>\n",
    "\n",
    "### Let's create a table"
   ]
  },
  {
   "cell_type": "code",
   "execution_count": null,
   "metadata": {},
   "outputs": [],
   "source": [
    "table_name  = \"greetings2\"\n",
    "print('Creating the {} table.'.format(table_name))\n",
    "column_family_name = 'cf1'\n",
    "connection.create_table(    table_name,\n",
    "                            {\n",
    "                                column_family_name: dict()     # Use default options.\n",
    "                            }\n",
    "                       )\n",
    "### WARNING\n",
    "#\n",
    "## You will get an error the first time saying that you did not enable admin api. \n",
    "## A link will be given. Follow it and enable the API And retry."
   ]
  },
  {
   "cell_type": "markdown",
   "metadata": {},
   "source": [
    "### Inserting data"
   ]
  },
  {
   "cell_type": "code",
   "execution_count": null,
   "metadata": {},
   "outputs": [],
   "source": [
    "\n",
    "print('Writing some greetings to the table.')\n",
    "table = connection.table(table_name)\n",
    "column_name = '{fam}:greeting'.format(fam=column_family_name)\n",
    "greetings = [\n",
    "    'Hello World!',\n",
    "    'Hello Cloud Bigtable!',\n",
    "    'Hello HappyBase!',\n",
    "]\n",
    "\n",
    "for i, value in enumerate(greetings):\n",
    "    row_key = 'greeting{}'.format(i)\n",
    "    table.put(row_key, {column_name: value})\n",
    "\n",
    "print('done!')"
   ]
  },
  {
   "cell_type": "markdown",
   "metadata": {},
   "source": [
    "### Reading data"
   ]
  },
  {
   "cell_type": "code",
   "execution_count": null,
   "metadata": {},
   "outputs": [],
   "source": [
    "print('Getting a single greeting by row key.')\n",
    "key = 'greeting0'.encode('utf-8')\n",
    "row = table.row(key)\n",
    "print('\\t{}: {}'.format(key, row[column_name.encode('utf-8')]))\n"
   ]
  },
  {
   "cell_type": "code",
   "execution_count": null,
   "metadata": {},
   "outputs": [],
   "source": [
    "print('Scanning for all greetings:')\n",
    "\n",
    "for key, row in table.scan():\n",
    "    print('\\t{}: {}'.format(key, row[column_name.encode('utf-8')]))\n",
    "\n",
    "#     print('Deleting the {} table.'.format(table_name))\n",
    "#     connection.delete_table(table_name)\n"
   ]
  },
  {
   "cell_type": "code",
   "execution_count": null,
   "metadata": {},
   "outputs": [],
   "source": [
    "connection.close()"
   ]
  },
  {
   "cell_type": "markdown",
   "metadata": {},
   "source": [
    "<hr>"
   ]
  },
  {
   "cell_type": "markdown",
   "metadata": {},
   "source": [
    "## Let's load some interesting data\n",
    "<hr>\n",
    "**We will use the bigtable client but it can be done using happybase too.**"
   ]
  },
  {
   "cell_type": "code",
   "execution_count": null,
   "metadata": {},
   "outputs": [],
   "source": [
    "import pandas as pd\n",
    "import datetime\n",
    "from time import time\n",
    "import math"
   ]
  },
  {
   "cell_type": "code",
   "execution_count": null,
   "metadata": {},
   "outputs": [],
   "source": [
    "df_Measures        = pd.read_csv(\"/path/to/measurements.sample.csv\")"
   ]
  },
  {
   "cell_type": "code",
   "execution_count": null,
   "metadata": {},
   "outputs": [],
   "source": [
    "table_name  = \"RadiationMeasurements\"\n",
    "table_columns = [\n",
    "                    (\"time\",\"Captured Time\"),(\"time\",\"Uploaded Time\"),\n",
    "                    (\"location\",\"Latitude\"),(\"location\",\"Longitude\"),(\"location\",\"Height\"),\n",
    "                    (\"measure\",\"Value\"),(\"measure\",\"Unit\"),\n",
    "                    (\"device\",\"Device ID\")\n",
    "                ]\n",
    "\n",
    "print('Creating the {} table.'.format(table_name))\n",
    "\n",
    "RadiationMeasurements = instance.table(table_name)\n",
    "RadiationMeasurements.create()\n",
    "\n",
    "\n",
    "columnFamilies = []\n",
    "for aColumn in table_columns:\n",
    "    columnFamilies.append(aColumn[0])\n",
    "columnFamilies = list(set(columnFamilies))\n",
    "\n",
    "for aColumnFamily in columnFamilies:\n",
    "    cf = table.column_family(aColumnFamily)\n",
    "    cf.create()\n",
    "     \n",
    "\n",
    "print(\"done!\")\n",
    "### WARNING\n",
    "#\n",
    "## You will get an error the first time saying that you did not enable admin api. \n",
    "## A link will be given. Follow it and enable the API And retry."
   ]
  },
  {
   "cell_type": "code",
   "execution_count": null,
   "metadata": {},
   "outputs": [],
   "source": [
    "#RadiationMeasurements.delete()   #UNCOMMENT IF YOU NEED TO DROP THE TABLE. "
   ]
  },
  {
   "cell_type": "code",
   "execution_count": null,
   "metadata": {},
   "outputs": [],
   "source": [
    "for index,dfRow in df_Measures.iterrows():\n",
    "    row_key = 'measurement_{}'.format(index)\n",
    "    row = RadiationMeasurements.row(row_key)\n",
    "    \n",
    "\n",
    "    for aColumn in table_columns:  #([0],[1]) maps to (columnFamily,columnName)\n",
    "        row.set_cell(   \n",
    "                        aColumn[0],\n",
    "                        aColumn[1],\n",
    "                        str(dfRow[aColumn[1]]).encode('utf-8')\n",
    "                    )\n",
    "    row.commit()\n",
    "\n",
    "print('done!')"
   ]
  },
  {
   "cell_type": "code",
   "execution_count": null,
   "metadata": {},
   "outputs": [],
   "source": [
    "print('Scanning 5 Measurements:')\n",
    "partial_rows = RadiationMeasurements.read_rows(limit=5)\n",
    "partial_rows.consume_all()\n",
    "\n",
    "for row_key, row in partial_rows.rows.items():\n",
    "    key   = row_key.decode('utf-8')\n",
    "    rowArr = []\n",
    "    for aColumn in table_columns:\n",
    "        rowArr.append(row.cells[aColumn[0]][aColumn[1].encode(\"utf-8\")][0].value)\n",
    "    print(\"Key:\",key)\n",
    "    for i in range(len(table_columns)):\n",
    "        print(\"      Data:\",table_columns[i][0],table_columns[i][1],\":\",rowArr[i])"
   ]
  },
  {
   "cell_type": "code",
   "execution_count": null,
   "metadata": {},
   "outputs": [],
   "source": [
    "print('Scanning measurement 3 to 5:')\n",
    "partial_rows = RadiationMeasurements.read_rows(start_key=\"measurement_3\",end_key=\"measurement_5\")\n",
    "partial_rows.consume_all()\n",
    "\n",
    "for row_key, row in partial_rows.rows.items():\n",
    "    key   = row_key.decode('utf-8')\n",
    "    rowArr = []\n",
    "    for aColumn in table_columns:\n",
    "        rowArr.append(row.cells[aColumn[0]][aColumn[1].encode(\"utf-8\")][0].value)\n",
    "    print(\"Key:\",key)\n",
    "    for i in range(len(table_columns)):\n",
    "        print(\"      Data:\",table_columns[i][0],table_columns[i][1],\":\",rowArr[i])"
   ]
  },
  {
   "cell_type": "markdown",
   "metadata": {},
   "source": [
    "### QUESTION:\n",
    "**_In which line is the data actually fetched from Bigtable?_** Explain briefly. "
   ]
  },
  {
   "cell_type": "markdown",
   "metadata": {},
   "source": [
    "#### <span style=\"color:red\"> --- Answer HERE --- </span>"
   ]
  },
  {
   "cell_type": "markdown",
   "metadata": {},
   "source": [
    "### QUESTIONS:\n",
    "**_What is the difference between the previous two blocks of code?_** Explain Briefly"
   ]
  },
  {
   "cell_type": "markdown",
   "metadata": {},
   "source": [
    "#### <span style=\"color:red\"> --- Answer HERE --- </span>"
   ]
  },
  {
   "cell_type": "code",
   "execution_count": null,
   "metadata": {},
   "outputs": [],
   "source": [
    "print('Sum all Measurements that the unit is cpm:')\n",
    "\n",
    "###############\n",
    "####    TO DO HERE\n",
    "##############\n",
    "\n",
    "print (\"The sum is:\", totalSum)"
   ]
  },
  {
   "cell_type": "markdown",
   "metadata": {},
   "source": [
    "# <span style=\"color:#5DB664\">DELETE YOUR BIGTABLE INSTANCE AS WHEN YOU FINNISH </span>"
   ]
  },
  {
   "cell_type": "markdown",
   "metadata": {},
   "source": [
    "<hr><BR>"
   ]
  },
  {
   "cell_type": "markdown",
   "metadata": {},
   "source": [
    "# <span style=\"color:RED\">Homework: </span> Yelp Dataset\n",
    "<hr>\n",
    "Similar to the example above, we are going to be using the New York City - Buildings competition dataset available [here](https://www.kaggle.com/new-york-city/nyc-buildings/data). <br>\n",
    "You should:\n",
    "1. Download the dataset to your machine.\n",
    "2. Create a new database.\n",
    "3. Create the necessary tables to load the Brooklyn subset.\n",
    "4. Load the Brooklyn dataset, but be smart when uploading. If we don't have a value for a particular cell, don't load it into Bigtable.\n",
    "\n",
    "\n",
    "## Questions:\n",
    "1. Report the time for loading the dataset.\n",
    "2. Generate a report that for each zipcode displays the average of the lot and building front area. <br>\n",
    "In this query the performance is very important as you are reading a noticeable ammount of data. Came across with an initial procedure to solve the query. Later try to improve that code. Did your second implementation improved the running time? Explain why. Present the code used in both stages and the runtime for each one. \n",
    "\n"
   ]
  },
  {
   "cell_type": "code",
   "execution_count": null,
   "metadata": {},
   "outputs": [],
   "source": [
    "## PLACE YOUR CODE STARTING THIS POINT. "
   ]
  },
  {
   "cell_type": "markdown",
   "metadata": {},
   "source": [
    "<hr style=\"border: 3px double navy;\" ><br><br><br>"
   ]
  }
 ],
 "metadata": {
  "kernelspec": {
   "display_name": "Python 3",
   "language": "python",
   "name": "python3"
  },
  "language_info": {
   "codemirror_mode": {
    "name": "ipython",
    "version": 3
   },
   "file_extension": ".py",
   "mimetype": "text/x-python",
   "name": "python",
   "nbconvert_exporter": "python",
   "pygments_lexer": "ipython3",
   "version": "3.6.4"
  }
 },
 "nbformat": 4,
 "nbformat_minor": 2
}
